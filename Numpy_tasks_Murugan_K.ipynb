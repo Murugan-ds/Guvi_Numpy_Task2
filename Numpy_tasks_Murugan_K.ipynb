{
 "cells": [
  {
   "cell_type": "markdown",
   "metadata": {},
   "source": [
    "# Numpy\n",
    "\n"
   ]
  },
  {
   "cell_type": "markdown",
   "metadata": {},
   "source": [
    "#### 1. Import the numpy package under the name `np` (★☆☆) \n",
    "(**hint**: import … as …)"
   ]
  },
  {
   "cell_type": "code",
   "execution_count": 2,
   "metadata": {},
   "outputs": [],
   "source": [
    "import numpy as np"
   ]
  },
  {
   "cell_type": "markdown",
   "metadata": {},
   "source": [
    "#### 2. Print the numpy version and the configuration (★☆☆) \n",
    "(**hint**: np.\\_\\_version\\_\\_, np.show\\_config)"
   ]
  },
  {
   "cell_type": "code",
   "execution_count": 6,
   "metadata": {},
   "outputs": [
    {
     "name": "stdout",
     "output_type": "stream",
     "text": [
      "1.24.1\n",
      "openblas64__info:\n",
      "    libraries = ['openblas64_', 'openblas64_']\n",
      "    library_dirs = ['openblas\\\\lib']\n",
      "    language = c\n",
      "    define_macros = [('HAVE_CBLAS', None), ('BLAS_SYMBOL_SUFFIX', '64_'), ('HAVE_BLAS_ILP64', None)]\n",
      "    runtime_library_dirs = ['openblas\\\\lib']\n",
      "blas_ilp64_opt_info:\n",
      "    libraries = ['openblas64_', 'openblas64_']\n",
      "    library_dirs = ['openblas\\\\lib']\n",
      "    language = c\n",
      "    define_macros = [('HAVE_CBLAS', None), ('BLAS_SYMBOL_SUFFIX', '64_'), ('HAVE_BLAS_ILP64', None)]\n",
      "    runtime_library_dirs = ['openblas\\\\lib']\n",
      "openblas64__lapack_info:\n",
      "    libraries = ['openblas64_', 'openblas64_']\n",
      "    library_dirs = ['openblas\\\\lib']\n",
      "    language = c\n",
      "    define_macros = [('HAVE_CBLAS', None), ('BLAS_SYMBOL_SUFFIX', '64_'), ('HAVE_BLAS_ILP64', None), ('HAVE_LAPACKE', None)]\n",
      "    runtime_library_dirs = ['openblas\\\\lib']\n",
      "lapack_ilp64_opt_info:\n",
      "    libraries = ['openblas64_', 'openblas64_']\n",
      "    library_dirs = ['openblas\\\\lib']\n",
      "    language = c\n",
      "    define_macros = [('HAVE_CBLAS', None), ('BLAS_SYMBOL_SUFFIX', '64_'), ('HAVE_BLAS_ILP64', None), ('HAVE_LAPACKE', None)]\n",
      "    runtime_library_dirs = ['openblas\\\\lib']\n",
      "Supported SIMD extensions in this NumPy install:\n",
      "    baseline = SSE,SSE2,SSE3\n",
      "    found = SSSE3,SSE41,POPCNT,SSE42,AVX,F16C,FMA3,AVX2\n",
      "    not found = AVX512F,AVX512CD,AVX512_SKX,AVX512_CLX,AVX512_CNL,AVX512_ICL\n",
      "None\n"
     ]
    }
   ],
   "source": [
    "print(np.__version__)\n",
    "print(np.show_config())"
   ]
  },
  {
   "cell_type": "markdown",
   "metadata": {},
   "source": [
    "#### 3. Create a null vector of size 10 (★☆☆) \n",
    "(**hint**: np.zeros)"
   ]
  },
  {
   "cell_type": "code",
   "execution_count": 7,
   "metadata": {},
   "outputs": [
    {
     "data": {
      "text/plain": [
       "array([0., 0., 0., 0., 0., 0., 0., 0., 0., 0.])"
      ]
     },
     "execution_count": 7,
     "metadata": {},
     "output_type": "execute_result"
    }
   ],
   "source": [
    "np.zeros(10)"
   ]
  },
  {
   "cell_type": "markdown",
   "metadata": {},
   "source": [
    "#### 4.  How to find the memory size of any array (★☆☆) \n",
    "(**hint**: size, itemsize)"
   ]
  },
  {
   "cell_type": "code",
   "execution_count": 184,
   "metadata": {},
   "outputs": [
    {
     "name": "stdout",
     "output_type": "stream",
     "text": [
      "800 bytes\n"
     ]
    }
   ],
   "source": [
    "A=np.zeros((10,10))\n",
    "print(\"%d bytes\" %(A.size*A.itemsize))"
   ]
  },
  {
   "cell_type": "markdown",
   "metadata": {},
   "source": [
    "#### 5.  How to get the documentation of the numpy add function from the command line? (★☆☆) \n",
    "(**hint**: np.info)"
   ]
  },
  {
   "cell_type": "code",
   "execution_count": 9,
   "metadata": {},
   "outputs": [
    {
     "name": "stdout",
     "output_type": "stream",
     "text": [
      "add(x1, x2, /, out=None, *, where=True, casting='same_kind', order='K', dtype=None, subok=True[, signature, extobj])\n",
      "\n",
      "Add arguments element-wise.\n",
      "\n",
      "Parameters\n",
      "----------\n",
      "x1, x2 : array_like\n",
      "    The arrays to be added.\n",
      "    If ``x1.shape != x2.shape``, they must be broadcastable to a common\n",
      "    shape (which becomes the shape of the output).\n",
      "out : ndarray, None, or tuple of ndarray and None, optional\n",
      "    A location into which the result is stored. If provided, it must have\n",
      "    a shape that the inputs broadcast to. If not provided or None,\n",
      "    a freshly-allocated array is returned. A tuple (possible only as a\n",
      "    keyword argument) must have length equal to the number of outputs.\n",
      "where : array_like, optional\n",
      "    This condition is broadcast over the input. At locations where the\n",
      "    condition is True, the `out` array will be set to the ufunc result.\n",
      "    Elsewhere, the `out` array will retain its original value.\n",
      "    Note that if an uninitialized `out` array is created via the default\n",
      "    ``out=None``, locations within it where the condition is False will\n",
      "    remain uninitialized.\n",
      "**kwargs\n",
      "    For other keyword-only arguments, see the\n",
      "    :ref:`ufunc docs <ufuncs.kwargs>`.\n",
      "\n",
      "Returns\n",
      "-------\n",
      "add : ndarray or scalar\n",
      "    The sum of `x1` and `x2`, element-wise.\n",
      "    This is a scalar if both `x1` and `x2` are scalars.\n",
      "\n",
      "Notes\n",
      "-----\n",
      "Equivalent to `x1` + `x2` in terms of array broadcasting.\n",
      "\n",
      "Examples\n",
      "--------\n",
      ">>> np.add(1.0, 4.0)\n",
      "5.0\n",
      ">>> x1 = np.arange(9.0).reshape((3, 3))\n",
      ">>> x2 = np.arange(3.0)\n",
      ">>> np.add(x1, x2)\n",
      "array([[  0.,   2.,   4.],\n",
      "       [  3.,   5.,   7.],\n",
      "       [  6.,   8.,  10.]])\n",
      "\n",
      "The ``+`` operator can be used as a shorthand for ``np.add`` on ndarrays.\n",
      "\n",
      ">>> x1 = np.arange(9.0).reshape((3, 3))\n",
      ">>> x2 = np.arange(3.0)\n",
      ">>> x1 + x2\n",
      "array([[ 0.,  2.,  4.],\n",
      "       [ 3.,  5.,  7.],\n",
      "       [ 6.,  8., 10.]])\n",
      "None\n"
     ]
    }
   ],
   "source": [
    "print(np.info(np.add))"
   ]
  },
  {
   "cell_type": "markdown",
   "metadata": {},
   "source": [
    "#### 6.  Create a null vector of size 10 but the fifth value which is 1 (★☆☆) \n",
    "(**hint**: array\\[4\\])"
   ]
  },
  {
   "cell_type": "code",
   "execution_count": 12,
   "metadata": {},
   "outputs": [
    {
     "data": {
      "text/plain": [
       "array([0., 0., 0., 0., 1., 0., 0., 0., 0., 0.])"
      ]
     },
     "execution_count": 12,
     "metadata": {},
     "output_type": "execute_result"
    }
   ],
   "source": [
    "a=np.zeros(10)\n",
    "a[4]=1\n",
    "a"
   ]
  },
  {
   "cell_type": "markdown",
   "metadata": {},
   "source": [
    "#### 7.  Create a vector with values ranging from 10 to 49 (★☆☆) \n",
    "(**hint**: np.arange)"
   ]
  },
  {
   "cell_type": "code",
   "execution_count": 13,
   "metadata": {},
   "outputs": [
    {
     "data": {
      "text/plain": [
       "array([10, 11, 12, 13, 14, 15, 16, 17, 18, 19, 20, 21, 22, 23, 24, 25, 26,\n",
       "       27, 28, 29, 30, 31, 32, 33, 34, 35, 36, 37, 38, 39, 40, 41, 42, 43,\n",
       "       44, 45, 46, 47, 48, 49])"
      ]
     },
     "execution_count": 13,
     "metadata": {},
     "output_type": "execute_result"
    }
   ],
   "source": [
    "np.arange(10,50)"
   ]
  },
  {
   "cell_type": "markdown",
   "metadata": {},
   "source": [
    "#### 8.  Reverse a vector (first element becomes last) (★☆☆) \n",
    "(**hint**: array\\[::-1\\])"
   ]
  },
  {
   "cell_type": "code",
   "execution_count": 15,
   "metadata": {},
   "outputs": [
    {
     "data": {
      "text/plain": [
       "array([9, 8, 7, 6, 5, 4, 3, 2, 1, 0])"
      ]
     },
     "execution_count": 15,
     "metadata": {},
     "output_type": "execute_result"
    }
   ],
   "source": [
    "a=np.arange(0,10)\n",
    "a[::-1]"
   ]
  },
  {
   "cell_type": "markdown",
   "metadata": {},
   "source": [
    "#### 9.  Create a 3x3 matrix with values ranging from 0 to 8 (★☆☆) \n",
    "(**hint**: reshape)"
   ]
  },
  {
   "cell_type": "code",
   "execution_count": 19,
   "metadata": {},
   "outputs": [
    {
     "data": {
      "text/plain": [
       "array([[0, 1, 2],\n",
       "       [3, 4, 5],\n",
       "       [6, 7, 8]])"
      ]
     },
     "execution_count": 19,
     "metadata": {},
     "output_type": "execute_result"
    }
   ],
   "source": [
    "np.arange(0,9).reshape(3,3)"
   ]
  },
  {
   "cell_type": "markdown",
   "metadata": {},
   "source": [
    "10. Find indices of non-zero elements from \\[1,2,0,0,4,0\\] (★☆☆) \n",
    "(**hint**: np.nonzero)"
   ]
  },
  {
   "cell_type": "code",
   "execution_count": 22,
   "metadata": {},
   "outputs": [
    {
     "name": "stdout",
     "output_type": "stream",
     "text": [
      "(array([0, 1, 4], dtype=int64),)\n"
     ]
    }
   ],
   "source": [
    "a=np.array([1,2,0,0,4,0])\n",
    "print(np.nonzero(a))"
   ]
  },
  {
   "cell_type": "markdown",
   "metadata": {},
   "source": [
    "#### 11. Create a 3x3 identity matrix (★☆☆) \n",
    "(**hint**: np.eye)"
   ]
  },
  {
   "cell_type": "code",
   "execution_count": 23,
   "metadata": {},
   "outputs": [
    {
     "data": {
      "text/plain": [
       "array([[1., 0., 0.],\n",
       "       [0., 1., 0.],\n",
       "       [0., 0., 1.]])"
      ]
     },
     "execution_count": 23,
     "metadata": {},
     "output_type": "execute_result"
    }
   ],
   "source": [
    "np.eye(3)"
   ]
  },
  {
   "cell_type": "markdown",
   "metadata": {},
   "source": [
    "#### 12. Create a 3x3x3 array with random values (★☆☆) \n",
    "(**hint**: np.random.random)"
   ]
  },
  {
   "cell_type": "code",
   "execution_count": 41,
   "metadata": {},
   "outputs": [
    {
     "name": "stdout",
     "output_type": "stream",
     "text": [
      "[[[0.29832359 0.63127097 0.25451624]\n",
      "  [0.89941154 0.35504318 0.2574104 ]\n",
      "  [0.13442185 0.71397788 0.26584767]]\n",
      "\n",
      " [[0.99637058 0.51517168 0.55417266]\n",
      "  [0.69386108 0.2052447  0.4718743 ]\n",
      "  [0.07502451 0.5400798  0.77183468]]\n",
      "\n",
      " [[0.40534815 0.17881578 0.41120209]\n",
      "  [0.57141621 0.66353411 0.59446618]\n",
      "  [0.64539018 0.70092207 0.35452935]]]\n"
     ]
    }
   ],
   "source": [
    "print(np.random.random(27).reshape(3,3,3))"
   ]
  },
  {
   "cell_type": "markdown",
   "metadata": {},
   "source": [
    "#### 13. Create a 10x10 array with random values and find the minimum and maximum values (★☆☆) \n",
    "(**hint**: min, max)"
   ]
  },
  {
   "cell_type": "code",
   "execution_count": 53,
   "metadata": {},
   "outputs": [
    {
     "name": "stdout",
     "output_type": "stream",
     "text": [
      "max 0.9992602212423785\n",
      "min 0.00047029024958489263\n"
     ]
    }
   ],
   "source": [
    "a=np.random.random(100).reshape(10,10)\n",
    "print(\"max\",a.max())\n",
    "print(\"min\",a.min())"
   ]
  },
  {
   "cell_type": "markdown",
   "metadata": {},
   "source": [
    "#### 14. Create a random vector of size 30 and find the mean value (★☆☆) \n",
    "(**hint**: mean)"
   ]
  },
  {
   "cell_type": "code",
   "execution_count": 67,
   "metadata": {},
   "outputs": [
    {
     "name": "stdout",
     "output_type": "stream",
     "text": [
      "mean 0.5405390392095067\n"
     ]
    }
   ],
   "source": [
    "a=np.random.random(30)\n",
    "#print(a)\n",
    "#print(np.mean(a))\n",
    "print(\"mean\",a.mean())"
   ]
  },
  {
   "cell_type": "markdown",
   "metadata": {},
   "source": [
    "#### 15. Create a 2d array with 1 on the border and 0 inside (★☆☆) \n",
    "(**hint**: array\\[1:-1, 1:-1\\])"
   ]
  },
  {
   "cell_type": "code",
   "execution_count": 186,
   "metadata": {},
   "outputs": [
    {
     "data": {
      "text/plain": [
       "array([[1., 1., 1., 1., 1., 1., 1.],\n",
       "       [1., 0., 0., 0., 0., 0., 1.],\n",
       "       [1., 0., 0., 0., 0., 0., 1.],\n",
       "       [1., 0., 0., 0., 0., 0., 1.],\n",
       "       [1., 0., 0., 0., 0., 0., 1.],\n",
       "       [1., 0., 0., 0., 0., 0., 1.],\n",
       "       [1., 1., 1., 1., 1., 1., 1.]])"
      ]
     },
     "execution_count": 186,
     "metadata": {},
     "output_type": "execute_result"
    }
   ],
   "source": [
    "a=np.ones(49).reshape(7,7)\n",
    "a[1:-1,1:-1]=0\n",
    "a"
   ]
  },
  {
   "cell_type": "markdown",
   "metadata": {},
   "source": [
    "#### 16. How to add a border (filled with 0's) around an existing array? (★☆☆) \n",
    "(**hint**: np.pad)"
   ]
  },
  {
   "cell_type": "code",
   "execution_count": 92,
   "metadata": {},
   "outputs": [
    {
     "name": "stdout",
     "output_type": "stream",
     "text": [
      "[0 1 2 3 4 5 6 7 8 9 0]\n"
     ]
    }
   ],
   "source": [
    "a=np.arange(1,10)\n",
    "print(np.pad(a,(1,1),'constant',constant_values=(0,0)))\n",
    "#print(np.pad(a,(1,1)))"
   ]
  },
  {
   "cell_type": "markdown",
   "metadata": {},
   "source": [
    "#### 17. What is the result of the following expression? (★☆☆) \n",
    "(**hint**: NaN = not a number, inf = infinity)"
   ]
  },
  {
   "cell_type": "markdown",
   "metadata": {},
   "source": [
    "```python\n",
    "0 * np.nan\n",
    "np.nan == np.nan\n",
    "np.inf > np.nan\n",
    "np.nan - np.nan\n",
    "0.3 == 3 * 0.1\n",
    "```"
   ]
  },
  {
   "cell_type": "code",
   "execution_count": 115,
   "metadata": {},
   "outputs": [
    {
     "name": "stdout",
     "output_type": "stream",
     "text": [
      "nan\n",
      "False\n",
      "False\n",
      "nan\n",
      "False\n"
     ]
    },
    {
     "data": {
      "text/plain": [
       "'\\noutput is\\nnan\\nFalse\\nFalse\\nnan\\nFalse'"
      ]
     },
     "execution_count": 115,
     "metadata": {},
     "output_type": "execute_result"
    }
   ],
   "source": [
    "print(0*np.nan)\n",
    "print(np.nan==np.nan)\n",
    "print(np.inf>np.nan)\n",
    "print(np.nan-np.nan)\n",
    "print(0.3==3*0.1)\n",
    "\"\"\"\n",
    "output is\n",
    "nan\n",
    "False\n",
    "False\n",
    "nan\n",
    "False\"\"\""
   ]
  },
  {
   "cell_type": "markdown",
   "metadata": {},
   "source": [
    "#### 18. Create a 5x5 matrix with values 1,2,3,4 just below the diagonal (★☆☆) \n",
    "(**hint**: np.diag)"
   ]
  },
  {
   "cell_type": "code",
   "execution_count": 122,
   "metadata": {},
   "outputs": [
    {
     "data": {
      "text/plain": [
       "array([[0, 0, 0, 0, 0],\n",
       "       [1, 0, 0, 0, 0],\n",
       "       [0, 2, 0, 0, 0],\n",
       "       [0, 0, 3, 0, 0],\n",
       "       [0, 0, 0, 4, 0]])"
      ]
     },
     "execution_count": 122,
     "metadata": {},
     "output_type": "execute_result"
    }
   ],
   "source": [
    "a=np.diag([1,2,3,4],k=-1)\n",
    "a"
   ]
  },
  {
   "cell_type": "markdown",
   "metadata": {},
   "source": [
    "#### 19. Create a 8x8 matrix and fill it with a checkerboard pattern (★☆☆) \n",
    "(**hint**: array\\[::2\\])"
   ]
  },
  {
   "cell_type": "code",
   "execution_count": 164,
   "metadata": {},
   "outputs": [
    {
     "data": {
      "text/plain": [
       "array([[0., 1., 0., 1., 0., 1., 0., 1.],\n",
       "       [1., 0., 1., 0., 1., 0., 1., 0.],\n",
       "       [0., 1., 0., 1., 0., 1., 0., 1.],\n",
       "       [1., 0., 1., 0., 1., 0., 1., 0.],\n",
       "       [0., 1., 0., 1., 0., 1., 0., 1.],\n",
       "       [1., 0., 1., 0., 1., 0., 1., 0.],\n",
       "       [0., 1., 0., 1., 0., 1., 0., 1.],\n",
       "       [1., 0., 1., 0., 1., 0., 1., 0.]])"
      ]
     },
     "execution_count": 164,
     "metadata": {},
     "output_type": "execute_result"
    }
   ],
   "source": [
    "a=np.zeros(64).reshape(8,8)\n",
    "#a[1::2]=1\n",
    "a[::2,1::2]=1\n",
    "a[1::2,::2]=1\n",
    "a"
   ]
  },
  {
   "cell_type": "markdown",
   "metadata": {},
   "source": [
    "#### 20. Consider a (6,7,8) shape array, what is the index (x,y,z) of the 100th element? \n",
    "(**hint**: np.unravel_index)"
   ]
  },
  {
   "cell_type": "code",
   "execution_count": 188,
   "metadata": {},
   "outputs": [
    {
     "data": {
      "text/plain": [
       "(1, 5, 4)"
      ]
     },
     "execution_count": 188,
     "metadata": {},
     "output_type": "execute_result"
    }
   ],
   "source": [
    "np.unravel_index(100,(6,7,8))"
   ]
  },
  {
   "cell_type": "markdown",
   "metadata": {},
   "source": [
    "#### 21. Create a checkerboard 8x8 matrix using the tile function (★☆☆) \n",
    "(**hint**: np.tile)"
   ]
  },
  {
   "cell_type": "code",
   "execution_count": 65,
   "metadata": {},
   "outputs": [
    {
     "name": "stdout",
     "output_type": "stream",
     "text": [
      "[[0 1 0 1 0 1 0 1]\n",
      " [1 0 1 0 1 0 1 0]\n",
      " [0 1 0 1 0 1 0 1]\n",
      " [1 0 1 0 1 0 1 0]\n",
      " [0 1 0 1 0 1 0 1]\n",
      " [1 0 1 0 1 0 1 0]\n",
      " [0 1 0 1 0 1 0 1]\n",
      " [1 0 1 0 1 0 1 0]]\n"
     ]
    }
   ],
   "source": [
    "a=np.array([[0,1],[1,0]])\n",
    "print(np.tile(a,(4,4)))"
   ]
  },
  {
   "cell_type": "markdown",
   "metadata": {},
   "source": [
    "#### 22. Normalize a 5x5 random matrix (★☆☆) \n",
    "(**hint**: (x - min) / (max - min))"
   ]
  },
  {
   "cell_type": "code",
   "execution_count": 71,
   "metadata": {},
   "outputs": [
    {
     "name": "stdout",
     "output_type": "stream",
     "text": [
      "[[0.         0.04166667 0.08333333 0.125      0.16666667]\n",
      " [0.20833333 0.25       0.29166667 0.33333333 0.375     ]\n",
      " [0.41666667 0.45833333 0.5        0.54166667 0.58333333]\n",
      " [0.625      0.66666667 0.70833333 0.75       0.79166667]\n",
      " [0.83333333 0.875      0.91666667 0.95833333 1.        ]]\n"
     ]
    }
   ],
   "source": [
    "a=np.arange(25).reshape(5,5)\n",
    "b=(a-a.min())/(a.max()-a.min())\n",
    "print(b)"
   ]
  },
  {
   "cell_type": "markdown",
   "metadata": {},
   "source": [
    "#### 23. Create a custom dtype that describes a color as four unsigned bytes (RGBA) (★☆☆) \n",
    "(**hint**: np.dtype)"
   ]
  },
  {
   "cell_type": "code",
   "execution_count": 92,
   "metadata": {},
   "outputs": [
    {
     "data": {
      "text/plain": [
       "dtype([('r', 'u1'), ('g', 'u1'), ('b', 'u1'), ('a', 'u1')])"
      ]
     },
     "execution_count": 92,
     "metadata": {},
     "output_type": "execute_result"
    }
   ],
   "source": [
    "np.dtype([('r',np.uint8),('g',np.uint8),('b',np.uint8),('a',np.uint8)])"
   ]
  },
  {
   "cell_type": "markdown",
   "metadata": {},
   "source": [
    "#### 24. Multiply a 5x3 matrix by a 3x2 matrix (real matrix product) (★☆☆) \n",
    "(**hint**: np.dot | @)"
   ]
  },
  {
   "cell_type": "code",
   "execution_count": 198,
   "metadata": {},
   "outputs": [
    {
     "data": {
      "text/plain": [
       "array([[ 16,  22],\n",
       "       [ 34,  49],\n",
       "       [ 52,  76],\n",
       "       [ 70, 103],\n",
       "       [ 88, 130]])"
      ]
     },
     "execution_count": 198,
     "metadata": {},
     "output_type": "execute_result"
    }
   ],
   "source": [
    "a=np.arange(1,16).reshape(5,3)\n",
    "b=np.arange(6).reshape(3,2)\n",
    "a@b"
   ]
  },
  {
   "cell_type": "markdown",
   "metadata": {},
   "source": [
    "#### 25. Given a 1D array, negate all elements which are between 3 and 8, in place. (★☆☆) \n",
    "(**hint**: >, <=)"
   ]
  },
  {
   "cell_type": "code",
   "execution_count": 100,
   "metadata": {},
   "outputs": [
    {
     "data": {
      "text/plain": [
       "array([ 0,  1,  2,  3, -4, -5, -6, -7,  8,  9, 10, 11, 12, 13, 14, 15, 16,\n",
       "       17, 18, 19])"
      ]
     },
     "execution_count": 100,
     "metadata": {},
     "output_type": "execute_result"
    }
   ],
   "source": [
    "a=np.arange(20)\n",
    "a[(a>3) & (a<=7)]*=-1\n",
    "a"
   ]
  },
  {
   "cell_type": "markdown",
   "metadata": {},
   "source": [
    "#### 26. What is the output of the following script? (★☆☆) \n",
    "(**hint**: np.sum)"
   ]
  },
  {
   "cell_type": "markdown",
   "metadata": {},
   "source": [
    "```python\n",
    "# Author: Jake VanderPlas\n",
    "\n",
    "print(sum(range(5),-1))\n",
    "from numpy import *\n",
    "print(sum(range(5),-1))\n",
    "```"
   ]
  },
  {
   "cell_type": "code",
   "execution_count": 208,
   "metadata": {},
   "outputs": [
    {
     "name": "stdout",
     "output_type": "stream",
     "text": [
      "9\n",
      "10\n"
     ]
    }
   ],
   "source": [
    "print(sum(range(5),-1))\n",
    "from numpy import *\n",
    "print(sum(range(5),-1))  #here -1 refers to axis it will add from last to first"
   ]
  },
  {
   "cell_type": "markdown",
   "metadata": {},
   "source": [
    "27. Consider an integer vector Z, which of these expressions are legal? (★☆☆)"
   ]
  },
  {
   "cell_type": "markdown",
   "metadata": {},
   "source": [
    "```python\n",
    "Z**Z\n",
    "2 << Z >> 2\n",
    "Z <- Z\n",
    "1j*Z\n",
    "Z/1/1\n",
    "Z<Z>Z\n",
    "```"
   ]
  },
  {
   "cell_type": "code",
   "execution_count": 141,
   "metadata": {},
   "outputs": [
    {
     "name": "stdout",
     "output_type": "stream",
     "text": [
      "[        1         1         4        27       256      3125     46656\n",
      "    823543  16777216 387420489]\n",
      "[False False False False False False False False False False]\n",
      "[0.+0.j 0.+1.j 0.+2.j 0.+3.j 0.+4.j 0.+5.j 0.+6.j 0.+7.j 0.+8.j 0.+9.j]\n",
      "[0. 1. 2. 3. 4. 5. 6. 7. 8. 9.]\n",
      "[  0   1   2   4   8  16  32  64 128 256]\n"
     ]
    }
   ],
   "source": [
    "z=np.arange(10)\n",
    "#below are expressions are legal except last one\n",
    "print(z**z)      # z powerz    3 power 3 =27\n",
    "print(z<-z)    #z< (-z)  condition false 2 <-2\n",
    "print(1j*z)   #creating complex number arr\n",
    "print(z/1/1)  #z converted to float\n",
    "#not valid expessions\n",
    "print(2 <<z >>2)  #not valid\n",
    "#print(z<z>z)  #invalid  to conditions cannot be in one line"
   ]
  },
  {
   "cell_type": "markdown",
   "metadata": {},
   "source": [
    "#### 28. What are the result of the following expressions?"
   ]
  },
  {
   "cell_type": "markdown",
   "metadata": {},
   "source": [
    "```python\n",
    "np.array(0) / np.array(0)\n",
    "np.array(0) // np.array(0)\n",
    "np.array([np.nan]).astype(int).astype(float)\n",
    "```"
   ]
  },
  {
   "cell_type": "code",
   "execution_count": 219,
   "metadata": {},
   "outputs": [
    {
     "name": "stdout",
     "output_type": "stream",
     "text": [
      "nan\n",
      "0\n",
      "[-2.14748365e+09]\n"
     ]
    },
    {
     "name": "stderr",
     "output_type": "stream",
     "text": [
      "C:\\Users\\Murugan K\\AppData\\Local\\Temp\\ipykernel_16360\\3227561482.py:1: RuntimeWarning: invalid value encountered in divide\n",
      "  print(np.array(0)/np.array(0))\n",
      "C:\\Users\\Murugan K\\AppData\\Local\\Temp\\ipykernel_16360\\3227561482.py:2: RuntimeWarning: divide by zero encountered in floor_divide\n",
      "  print(np.array(0)//np.array(0))\n",
      "C:\\Users\\Murugan K\\AppData\\Local\\Temp\\ipykernel_16360\\3227561482.py:3: RuntimeWarning: invalid value encountered in cast\n",
      "  print(np.array([np.nan]).astype(int).astype(float))\n"
     ]
    }
   ],
   "source": [
    "print(np.array(0)/np.array(0))\n",
    "print(np.array(0)//np.array(0))\n",
    "print(np.array([np.nan]).astype(int).astype(float))"
   ]
  },
  {
   "cell_type": "markdown",
   "metadata": {},
   "source": [
    "#### 29. How to round away from zero a float array ? (★☆☆) \n",
    "(**hint**: np.uniform, np.copysign, np.ceil, np.abs)"
   ]
  },
  {
   "cell_type": "code",
   "execution_count": 171,
   "metadata": {},
   "outputs": [
    {
     "name": "stdout",
     "output_type": "stream",
     "text": [
      "[-1. -3. -2.  3. -4. -5.  5. -3. -3. -4.]\n"
     ]
    }
   ],
   "source": [
    "a=np.random.uniform(-5,5,10)\n",
    "print(np.copysign(np.ceil(np.abs(a)),a))"
   ]
  },
  {
   "cell_type": "markdown",
   "metadata": {},
   "source": [
    "#### 30. How to find common values between two arrays? (★☆☆) \n",
    "(**hint**: np.intersect1d)"
   ]
  },
  {
   "cell_type": "code",
   "execution_count": 48,
   "metadata": {},
   "outputs": [
    {
     "name": "stdout",
     "output_type": "stream",
     "text": [
      "[3 4]\n"
     ]
    }
   ],
   "source": [
    "a=np.arange(3,10)\n",
    "b=np.arange(5)\n",
    "print(np.intersect1d(a,b))"
   ]
  },
  {
   "cell_type": "markdown",
   "metadata": {},
   "source": [
    "#### 31. How to ignore all numpy warnings (not recommended)? (★☆☆) \n",
    "(**hint**: np.seterr, np.errstate)"
   ]
  },
  {
   "cell_type": "code",
   "execution_count": 55,
   "metadata": {},
   "outputs": [
    {
     "name": "stdout",
     "output_type": "stream",
     "text": [
      "{'divide': 'ignore', 'over': 'ignore', 'under': 'ignore', 'invalid': 'ignore'}\n",
      "nan\n"
     ]
    }
   ],
   "source": [
    "#np.info(np.seterr)\n",
    "#print(np.seterr(all=\"ignore\"))\n",
    "np.ones(3) /0\n",
    "a=np.seterr(all=\"ignore\")\n",
    "print(np.seterr(**a))\n",
    "with np.errstate(all='ignore'):\n",
    "    print(np.sqrt(-2))"
   ]
  },
  {
   "cell_type": "markdown",
   "metadata": {},
   "source": [
    "#### 32. Is the following expressions true? (★☆☆) \n",
    "(**hint**: imaginary number)"
   ]
  },
  {
   "cell_type": "markdown",
   "metadata": {},
   "source": [
    "```python\n",
    "np.sqrt(-1) == np.emath.sqrt(-1)\n",
    "```"
   ]
  },
  {
   "cell_type": "code",
   "execution_count": 220,
   "metadata": {},
   "outputs": [
    {
     "name": "stdout",
     "output_type": "stream",
     "text": [
      "False\n"
     ]
    },
    {
     "name": "stderr",
     "output_type": "stream",
     "text": [
      "C:\\Users\\Murugan K\\AppData\\Local\\Temp\\ipykernel_16360\\2770867030.py:1: RuntimeWarning: invalid value encountered in sqrt\n",
      "  print(np.sqrt(-1) == np.emath.sqrt(-1))\n"
     ]
    }
   ],
   "source": [
    "print(np.sqrt(-1) == np.emath.sqrt(-1)) #False  emath sqrt will return complex num "
   ]
  },
  {
   "cell_type": "markdown",
   "metadata": {},
   "source": [
    "33. How to get the dates of yesterday, today and tomorrow? (★☆☆) \n",
    "(**hint**: np.datetime64, np.timedelta64)"
   ]
  },
  {
   "cell_type": "code",
   "execution_count": 212,
   "metadata": {},
   "outputs": [
    {
     "name": "stdout",
     "output_type": "stream",
     "text": [
      "yesterday 2023-01-04\n",
      "today 2023-01-05\n",
      "tomorrow 2023-01-06\n"
     ]
    }
   ],
   "source": [
    "c=np.datetime64('today','D')-np.timedelta64(1,'D')\n",
    "print(\"yesterday\",b)\n",
    "a=np.datetime64('today','D')\n",
    "print(\"today\",a)\n",
    "c=np.datetime64('today','D')+np.timedelta64(1,'D')\n",
    "print(\"tomorrow\",c)"
   ]
  },
  {
   "cell_type": "markdown",
   "metadata": {},
   "source": [
    "#### 34. How to get all the dates corresponding to the month of July 2016? (★★☆) \n",
    "(**hint**: np.arange(dtype=datetime64\\['D'\\]))"
   ]
  },
  {
   "cell_type": "code",
   "execution_count": 228,
   "metadata": {},
   "outputs": [
    {
     "data": {
      "text/plain": [
       "array(['2016-07-01', '2016-07-02', '2016-07-03', '2016-07-04',\n",
       "       '2016-07-05', '2016-07-06', '2016-07-07', '2016-07-08',\n",
       "       '2016-07-09', '2016-07-10', '2016-07-11', '2016-07-12',\n",
       "       '2016-07-13', '2016-07-14', '2016-07-15', '2016-07-16',\n",
       "       '2016-07-17', '2016-07-18', '2016-07-19', '2016-07-20',\n",
       "       '2016-07-21', '2016-07-22', '2016-07-23', '2016-07-24',\n",
       "       '2016-07-25', '2016-07-26', '2016-07-27', '2016-07-28',\n",
       "       '2016-07-29', '2016-07-30', '2016-07-31'], dtype='datetime64[D]')"
      ]
     },
     "execution_count": 228,
     "metadata": {},
     "output_type": "execute_result"
    }
   ],
   "source": [
    "np.arange('2016-07','2016-08',dtype='datetime64[D]')"
   ]
  },
  {
   "cell_type": "markdown",
   "metadata": {},
   "source": [
    "#### 35. How to compute ((A+B)\\*(-A/2)) in place (without copy)? (★★☆) \n",
    "(**hint**: np.add(out=), np.negative(out=), np.multiply(out=), np.divide(out=))"
   ]
  },
  {
   "cell_type": "code",
   "execution_count": 31,
   "metadata": {},
   "outputs": [
    {
     "name": "stdout",
     "output_type": "stream",
     "text": [
      "[[  0   0  -4]\n",
      " [ -6 -16 -20]\n",
      " [-36 -42 -64]]\n"
     ]
    }
   ],
   "source": [
    "A=np.arange(9).reshape(3,3)\n",
    "B=np.arange(9).reshape(3,3)\n",
    "np.add(A,B,out=B)\n",
    "np.divide(A,2,out=A,casting='unsafe')\n",
    "np.negative(A,out=A)\n",
    "print(np.multiply(A,B,out=A,casting='unsafe'))"
   ]
  },
  {
   "cell_type": "markdown",
   "metadata": {},
   "source": [
    "#### 36. Extract the integer part of a random array using 5 different methods (★★☆) \n",
    "(**hint**: %, np.floor, np.ceil, astype, np.trunc)"
   ]
  },
  {
   "cell_type": "code",
   "execution_count": 50,
   "metadata": {},
   "outputs": [
    {
     "name": "stdout",
     "output_type": "stream",
     "text": [
      "[2. 3. 6. 2. 7. 4. 4. 0. 0. 5.]\n",
      "[2. 3. 6. 2. 7. 4. 4. 0. 0. 5.]\n",
      "[2. 3. 6. 2. 7. 4. 4. 0. 0. 5.]\n",
      "[2 3 6 2 7 4 4 0 0 5]\n",
      "[2. 3. 6. 2. 7. 4. 4. 0. 0. 5.]\n"
     ]
    }
   ],
   "source": [
    "a=np.random.uniform(0,10,10)\n",
    "#print(a)\n",
    "print(a-a%1)\n",
    "print(np.floor(a))\n",
    "print(np.ceil(a)-1)\n",
    "print(a.astype(int))\n",
    "print(np.trunc(a))"
   ]
  },
  {
   "cell_type": "markdown",
   "metadata": {},
   "source": [
    "#### 37. Create a 5x5 matrix with row values ranging from 0 to 4 (★★☆) \n",
    "(**hint**: np.arange)"
   ]
  },
  {
   "cell_type": "code",
   "execution_count": 238,
   "metadata": {},
   "outputs": [
    {
     "name": "stdout",
     "output_type": "stream",
     "text": [
      "[[0 1 2 3 4]\n",
      " [0 1 2 3 4]\n",
      " [0 1 2 3 4]\n",
      " [0 1 2 3 4]\n",
      " [0 1 2 3 4]]\n"
     ]
    }
   ],
   "source": [
    "a=np.tile(np.arange(5),(5,1))\n",
    "print(a)"
   ]
  },
  {
   "cell_type": "markdown",
   "metadata": {},
   "source": [
    "#### 38. Consider a generator function that generates 10 integers and use it to build an array (★☆☆) \n",
    "(**hint**: np.fromiter)"
   ]
  },
  {
   "cell_type": "code",
   "execution_count": 58,
   "metadata": {},
   "outputs": [
    {
     "name": "stdout",
     "output_type": "stream",
     "text": [
      "[0 1 2 3 4 5 6 7 8 9]\n"
     ]
    }
   ],
   "source": [
    "iterator=(i for i in range(10))\n",
    "print(np.fromiter(iterator,int))"
   ]
  },
  {
   "cell_type": "markdown",
   "metadata": {},
   "source": [
    "#### 39. Create a vector of size 10 with values ranging from 0 to 1, both excluded (★★☆) \n",
    "(**hint**: np.linspace)"
   ]
  },
  {
   "cell_type": "code",
   "execution_count": 251,
   "metadata": {},
   "outputs": [
    {
     "data": {
      "text/plain": [
       "array([0.02, 0.04, 0.06, 0.08, 0.1 , 0.12, 0.14, 0.16, 0.18, 0.2 , 0.22,\n",
       "       0.24, 0.26, 0.28, 0.3 , 0.32, 0.34, 0.36, 0.38, 0.4 , 0.42, 0.44,\n",
       "       0.46, 0.48, 0.5 , 0.52, 0.54, 0.56, 0.58, 0.6 , 0.62, 0.64, 0.66,\n",
       "       0.68, 0.7 , 0.72, 0.74, 0.76, 0.78, 0.8 , 0.82, 0.84, 0.86, 0.88,\n",
       "       0.9 , 0.92, 0.94, 0.96, 0.98])"
      ]
     },
     "execution_count": 251,
     "metadata": {},
     "output_type": "execute_result"
    }
   ],
   "source": [
    "np.linspace(0,1,endpoint=False)[1:]"
   ]
  },
  {
   "cell_type": "markdown",
   "metadata": {},
   "source": [
    "#### 40. Create a random vector of size 10 and sort it (★★☆) \n",
    "(**hint**: sort)"
   ]
  },
  {
   "cell_type": "code",
   "execution_count": 245,
   "metadata": {},
   "outputs": [
    {
     "name": "stdout",
     "output_type": "stream",
     "text": [
      "after sorting [0.05564537 0.21259254 0.33357381 0.53775227 0.62591738 0.69923614\n",
      " 0.71035844 0.7242238  0.90252128 0.94641165]\n"
     ]
    }
   ],
   "source": [
    "a=np.random.random(10)\n",
    "a.sort()\n",
    "print('after sorting',a)"
   ]
  },
  {
   "cell_type": "markdown",
   "metadata": {},
   "source": [
    "#### 41. How to sum a small array faster than np.sum? (★★☆) \n",
    "(**hint**: np.add.reduce)"
   ]
  },
  {
   "cell_type": "code",
   "execution_count": 60,
   "metadata": {},
   "outputs": [
    {
     "name": "stdout",
     "output_type": "stream",
     "text": [
      "45\n"
     ]
    }
   ],
   "source": [
    "A=np.arange(10)\n",
    "print(np.add.reduce(A))"
   ]
  },
  {
   "cell_type": "markdown",
   "metadata": {},
   "source": [
    "#### 42. Consider two random array A and B, check if they are equal (★★☆) \n",
    "(**hint**: np.allclose, np.array\\_equal)"
   ]
  },
  {
   "cell_type": "code",
   "execution_count": 74,
   "metadata": {},
   "outputs": [
    {
     "name": "stdout",
     "output_type": "stream",
     "text": [
      "False\n",
      "False\n"
     ]
    }
   ],
   "source": [
    "A=np.random.randint(0,2,5)\n",
    "B=np.random.randint(0,2,5)\n",
    "#print(A)\n",
    "#print(B)\n",
    "print(np.allclose(A,B))  #with tolarance  assuming shape is same\n",
    "print(np.array_equal(A,B))  #comparing shape and element wise without tolarance"
   ]
  },
  {
   "cell_type": "markdown",
   "metadata": {},
   "source": [
    "#### 43. Make an array immutable (read-only) (★★☆) \n",
    "(**hint**: flags.writeable)"
   ]
  },
  {
   "cell_type": "code",
   "execution_count": 80,
   "metadata": {},
   "outputs": [],
   "source": [
    "A=np.ones(20)\n",
    "A.flags.writeable=False     #read only\n",
    "#A[0]=10"
   ]
  },
  {
   "cell_type": "markdown",
   "metadata": {},
   "source": [
    "#### 44. Consider a random 10x2 matrix representing cartesian coordinates, convert them to polar coordinates (★★☆) \n",
    "(**hint**: np.sqrt, np.arctan2)"
   ]
  },
  {
   "cell_type": "code",
   "execution_count": 95,
   "metadata": {},
   "outputs": [
    {
     "name": "stdout",
     "output_type": "stream",
     "text": [
      "[0.73574823 1.01653977 0.51299406 0.98743728 0.54730443 0.60847387\n",
      " 0.95798766 1.04324107 1.02283257 0.96136166]\n",
      "[0.87762623 0.38131336 1.44851807 1.41286583 0.42340654 0.95781494\n",
      " 0.4890378  1.21000087 1.17652017 0.46793285]\n"
     ]
    }
   ],
   "source": [
    "A=np.random.random((10,2))\n",
    "X,Y=A[:,0],A[:,1]\n",
    "R=np.sqrt(X**2+Y**2)   #radius\n",
    "T=np.arctan2(Y,X)\n",
    "print(R)\n",
    "print(T)"
   ]
  },
  {
   "cell_type": "markdown",
   "metadata": {},
   "source": [
    "#### 45. Create random vector of size 10 and replace the maximum value by 0 (★★☆) \n",
    "(**hint**: argmax)"
   ]
  },
  {
   "cell_type": "code",
   "execution_count": 104,
   "metadata": {},
   "outputs": [
    {
     "name": "stdout",
     "output_type": "stream",
     "text": [
      "[23 37 33 40 20  1 10 22  9  0]\n"
     ]
    }
   ],
   "source": [
    "a=np.random.randint(0,50,10)\n",
    "#print(a)\n",
    "#print(a.max())\n",
    "a[a.argmax()]=0\n",
    "print(a)"
   ]
  },
  {
   "cell_type": "markdown",
   "metadata": {},
   "source": [
    "#### 46. Create a structured array with `x` and `y` coordinates covering the \\[0,1\\]x\\[0,1\\] area (★★☆) \n",
    "(**hint**: np.meshgrid)"
   ]
  },
  {
   "cell_type": "code",
   "execution_count": 120,
   "metadata": {},
   "outputs": [
    {
     "name": "stdout",
     "output_type": "stream",
     "text": [
      "[[(0.  , 0.  ) (0.25, 0.  ) (0.5 , 0.  ) (0.75, 0.  ) (1.  , 0.  )]\n",
      " [(0.  , 0.25) (0.25, 0.25) (0.5 , 0.25) (0.75, 0.25) (1.  , 0.25)]\n",
      " [(0.  , 0.5 ) (0.25, 0.5 ) (0.5 , 0.5 ) (0.75, 0.5 ) (1.  , 0.5 )]\n",
      " [(0.  , 0.75) (0.25, 0.75) (0.5 , 0.75) (0.75, 0.75) (1.  , 0.75)]\n",
      " [(0.  , 1.  ) (0.25, 1.  ) (0.5 , 1.  ) (0.75, 1.  ) (1.  , 1.  )]]\n"
     ]
    }
   ],
   "source": [
    "A=np.zeros((5,5),[('x',float),('y',float)])\n",
    "x=np.linspace(0,1,5)\n",
    "y=np.linspace(0,1,5)\n",
    "A['x'],A['y']=np.meshgrid(x,y)\n",
    "print(A)"
   ]
  },
  {
   "cell_type": "markdown",
   "metadata": {},
   "source": [
    "####  47. Given two arrays, X and Y, construct the Cauchy matrix C (Cij =1/(xi - yj)) \n",
    "(**hint**: np.subtract.outer)"
   ]
  },
  {
   "cell_type": "code",
   "execution_count": 136,
   "metadata": {},
   "outputs": [
    {
     "name": "stdout",
     "output_type": "stream",
     "text": [
      "3638.163637117973\n"
     ]
    }
   ],
   "source": [
    "X=np.arange(8)\n",
    "Y=X+0.5\n",
    "C=1/np.subtract.outer(X,Y)\n",
    "print(np.linalg.det(C))"
   ]
  },
  {
   "cell_type": "markdown",
   "metadata": {},
   "source": [
    "#### 48. Print the minimum and maximum representable value for each numpy scalar type (★★☆) \n",
    "(**hint**: np.iinfo, np.finfo, eps)"
   ]
  },
  {
   "cell_type": "code",
   "execution_count": 150,
   "metadata": {},
   "outputs": [
    {
     "name": "stdout",
     "output_type": "stream",
     "text": [
      "int\n",
      "-128\n",
      "127\n",
      "-2147483648\n",
      "2147483647\n",
      "-9223372036854775808\n",
      "9223372036854775807\n",
      "float\n",
      "-3.4028235e+38\n",
      "3.4028235e+38\n",
      "1.1920929e-07\n",
      "-1.7976931348623157e+308\n",
      "1.7976931348623157e+308\n",
      "2.220446049250313e-16\n"
     ]
    }
   ],
   "source": [
    "print(\"int\")\n",
    "for d_type in [np.int8,np.int32,np.int64]:\n",
    "    print(np.iinfo(d_type).min)\n",
    "    print(np.iinfo(d_type).max)\n",
    "print(\"float\")\n",
    "for d_type in [np.float32, np.float64]:\n",
    "    print(np.finfo(d_type).min)\n",
    "    print(np.finfo(d_type).max)\n",
    "    print(np.finfo(d_type).eps)"
   ]
  },
  {
   "cell_type": "markdown",
   "metadata": {},
   "source": [
    "49. How to print all the values of an array? (★★☆) \n",
    "(**hint**: np.set_printoptions)"
   ]
  },
  {
   "cell_type": "code",
   "execution_count": 168,
   "metadata": {
    "scrolled": true
   },
   "outputs": [
    {
     "name": "stdout",
     "output_type": "stream",
     "text": [
      "[[0. 0. 0. 0.]\n",
      " [0. 0. 0. 0.]\n",
      " [0. 0. 0. 0.]\n",
      " [0. 0. 0. 0.]\n",
      " [0. 0. 0. 0.]\n",
      " [0. 0. 0. 0.]\n",
      " [0. 0. 0. 0.]\n",
      " [0. 0. 0. 0.]\n",
      " [0. 0. 0. 0.]\n",
      " [0. 0. 0. 0.]]\n"
     ]
    }
   ],
   "source": [
    "import sys\n",
    "np.set_printoptions(threshold=sys.maxsize)\n",
    "x = np.zeros((10, 4))\n",
    "print(x)"
   ]
  },
  {
   "cell_type": "markdown",
   "metadata": {},
   "source": [
    "#### 50. How to find the closest value (to a given scalar) in a vector? (★★☆) \n",
    "(**hint**: argmin)"
   ]
  },
  {
   "cell_type": "code",
   "execution_count": 177,
   "metadata": {},
   "outputs": [
    {
     "name": "stdout",
     "output_type": "stream",
     "text": [
      "16\n"
     ]
    }
   ],
   "source": [
    "A= np.arange(100)\n",
    "V=np.random.uniform(0,100)\n",
    "i=(np.abs(A-V)).argmin()\n",
    "print(A[i])"
   ]
  },
  {
   "cell_type": "markdown",
   "metadata": {},
   "source": [
    " 51. Create a structured array representing a position (x,y) and a color (r,g,b) (★★☆) \n",
    "(**hint**: dtype)"
   ]
  },
  {
   "cell_type": "code",
   "execution_count": 15,
   "metadata": {
    "scrolled": true
   },
   "outputs": [
    {
     "name": "stdout",
     "output_type": "stream",
     "text": [
      "[((0., 0.), (0., 0., 0.)) ((0., 0.), (0., 0., 0.))\n",
      " ((0., 0.), (0., 0., 0.)) ((0., 0.), (0., 0., 0.))\n",
      " ((0., 0.), (0., 0., 0.)) ((0., 0.), (0., 0., 0.))\n",
      " ((0., 0.), (0., 0., 0.)) ((0., 0.), (0., 0., 0.))\n",
      " ((0., 0.), (0., 0., 0.)) ((0., 0.), (0., 0., 0.))\n",
      " ((0., 0.), (0., 0., 0.)) ((0., 0.), (0., 0., 0.))\n",
      " ((0., 0.), (0., 0., 0.)) ((0., 0.), (0., 0., 0.))\n",
      " ((0., 0.), (0., 0., 0.)) ((0., 0.), (0., 0., 0.))\n",
      " ((0., 0.), (0., 0., 0.)) ((0., 0.), (0., 0., 0.))\n",
      " ((0., 0.), (0., 0., 0.)) ((0., 0.), (0., 0., 0.))]\n"
     ]
    },
    {
     "name": "stderr",
     "output_type": "stream",
     "text": [
      "C:\\Users\\Murugan K\\AppData\\Local\\Temp\\ipykernel_12052\\1795953333.py:1: FutureWarning: Passing (type, 1) or '1type' as a synonym of type is deprecated; in a future version of numpy, it will be understood as (type, (1,)) / '(1,)type'.\n",
      "  a=np.dtype([('position',[('x',float,1),('y',float,1)]),\n"
     ]
    }
   ],
   "source": [
    "a=np.dtype([('position',[('x',float,1),('y',float,1)]),\n",
    "           ('color',[('r',float,1),('g',float,1),('b',float,1)]\n",
    "          )])\n",
    "print(np.zeros(20,a))"
   ]
  },
  {
   "cell_type": "markdown",
   "metadata": {},
   "source": [
    "#### 52. Consider a random vector with shape (100,2) representing coordinates, find point by point distances (★★☆) \n",
    "(**hint**: np.atleast\\_2d, T, np.sqrt)"
   ]
  },
  {
   "cell_type": "code",
   "execution_count": 68,
   "metadata": {},
   "outputs": [
    {
     "name": "stdout",
     "output_type": "stream",
     "text": [
      "[[0.         0.45124896 0.3095757  ... 0.58904741 0.87111375 0.44143326]\n",
      " [0.45124896 0.         0.14336588 ... 0.16000067 0.48354344 0.32969991]\n",
      " [0.3095757  0.14336588 0.         ... 0.29433102 0.58630886 0.28499185]\n",
      " ...\n",
      " [0.58904741 0.16000067 0.29433102 ... 0.         0.47652179 0.47368187]\n",
      " [0.87111375 0.48354344 0.58630886 ... 0.47652179 0.         0.48687705]\n",
      " [0.44143326 0.32969991 0.28499185 ... 0.47368187 0.48687705 0.        ]]\n"
     ]
    }
   ],
   "source": [
    "a=np.random.random((100,2))\n",
    "#print(a)\n",
    "x,y=np.atleast_2d(a[:,0],a[:,1])\n",
    "#print(x)\n",
    "#print(y)\n",
    "print(np.sqrt(((x-x.T)**2)+\n",
    "              ((y-y.T)**2)))"
   ]
  },
  {
   "cell_type": "markdown",
   "metadata": {},
   "source": [
    "#### 53. How to convert a float (32 bits) array into an integer (32 bits) in place? \n",
    "(**hint**: astype(copy=False))"
   ]
  },
  {
   "cell_type": "code",
   "execution_count": 87,
   "metadata": {},
   "outputs": [
    {
     "name": "stdout",
     "output_type": "stream",
     "text": [
      "[0. 1. 2. 3. 4. 5. 6. 7. 8. 9.]\n",
      "[0 1 2 3 4 5 6 7 8 9]\n"
     ]
    }
   ],
   "source": [
    "a=np.arange(10,dtype=np.float32)\n",
    "print(a)\n",
    "a=a.astype(dtype=np.int32,copy =False)\n",
    "print(a)"
   ]
  },
  {
   "cell_type": "markdown",
   "metadata": {},
   "source": [
    "#### 54. How to read the following file? (★★☆) \n",
    "(**hint**: np.genfromtxt)"
   ]
  },
  {
   "cell_type": "markdown",
   "metadata": {},
   "source": [
    "```\n",
    "1, 2, 3, 4, 5\n",
    "6,  ,  , 7, 8\n",
    " ,  , 9,10,11\n",
    "```"
   ]
  },
  {
   "cell_type": "code",
   "execution_count": 114,
   "metadata": {},
   "outputs": [
    {
     "data": {
      "text/plain": [
       "array([[ 1,  2,  3,  4,  5],\n",
       "       [ 6, -1, -1,  7,  8],\n",
       "       [-1, -1,  9, 10, 11]], dtype=int64)"
      ]
     },
     "execution_count": 114,
     "metadata": {},
     "output_type": "execute_result"
    }
   ],
   "source": [
    "from io import StringIO\n",
    "s=StringIO(\"\"\"1, 2, 3, 4, 5\n",
    "6,  ,  , 7, 8\n",
    " ,  , 9,10,11\n",
    "\"\"\")\n",
    "a=np.genfromtxt(s,delimiter=\",\",dtype=np.int64)\n",
    "a"
   ]
  },
  {
   "cell_type": "markdown",
   "metadata": {},
   "source": [
    "#### 55. What is the equivalent of enumerate for numpy arrays? (★★☆) \n",
    "(**hint**: np.ndenumerate, np.ndindex)"
   ]
  },
  {
   "cell_type": "code",
   "execution_count": 133,
   "metadata": {},
   "outputs": [
    {
     "name": "stdout",
     "output_type": "stream",
     "text": [
      "np.denumerate\n",
      "(0, 0) value 0\n",
      "(0, 1) value 1\n",
      "(1, 0) value 2\n",
      "(1, 1) value 3\n",
      "(2, 0) value 4\n",
      "(2, 1) value 5\n",
      "(3, 0) value 6\n",
      "(3, 1) value 7\n",
      "(4, 0) value 8\n",
      "(4, 1) value 9\n",
      "np.index\n",
      "(0, 0) value 0\n",
      "(0, 1) value 1\n",
      "(1, 0) value 2\n",
      "(1, 1) value 3\n",
      "(2, 0) value 4\n",
      "(2, 1) value 5\n",
      "(3, 0) value 6\n",
      "(3, 1) value 7\n",
      "(4, 0) value 8\n",
      "(4, 1) value 9\n"
     ]
    }
   ],
   "source": [
    "a=np.arange(10).reshape(5,2)\n",
    "print(\"np.denumerate\")\n",
    "for i,v in np.ndenumerate(a):\n",
    "    print(i,\"value\",v)\n",
    "print(\"np.index\")\n",
    "for i in np.ndindex(a.shape):\n",
    "    print(i,\"value\",a[i])"
   ]
  },
  {
   "cell_type": "markdown",
   "metadata": {},
   "source": [
    "#### 56. Generate a generic 2D Gaussian-like array (★★☆) \n",
    "(**hint**: np.meshgrid, np.exp)"
   ]
  },
  {
   "cell_type": "code",
   "execution_count": 146,
   "metadata": {},
   "outputs": [
    {
     "name": "stdout",
     "output_type": "stream",
     "text": [
      "[[0.36787944 0.44822088 0.51979489 0.57375342 0.60279818 0.60279818\n",
      "  0.57375342 0.51979489 0.44822088 0.36787944]\n",
      " [0.44822088 0.54610814 0.63331324 0.69905581 0.73444367 0.73444367\n",
      "  0.69905581 0.63331324 0.54610814 0.44822088]\n",
      " [0.51979489 0.63331324 0.73444367 0.81068432 0.85172308 0.85172308\n",
      "  0.81068432 0.73444367 0.63331324 0.51979489]\n",
      " [0.57375342 0.69905581 0.81068432 0.89483932 0.9401382  0.9401382\n",
      "  0.89483932 0.81068432 0.69905581 0.57375342]\n",
      " [0.60279818 0.73444367 0.85172308 0.9401382  0.98773022 0.98773022\n",
      "  0.9401382  0.85172308 0.73444367 0.60279818]\n",
      " [0.60279818 0.73444367 0.85172308 0.9401382  0.98773022 0.98773022\n",
      "  0.9401382  0.85172308 0.73444367 0.60279818]\n",
      " [0.57375342 0.69905581 0.81068432 0.89483932 0.9401382  0.9401382\n",
      "  0.89483932 0.81068432 0.69905581 0.57375342]\n",
      " [0.51979489 0.63331324 0.73444367 0.81068432 0.85172308 0.85172308\n",
      "  0.81068432 0.73444367 0.63331324 0.51979489]\n",
      " [0.44822088 0.54610814 0.63331324 0.69905581 0.73444367 0.73444367\n",
      "  0.69905581 0.63331324 0.54610814 0.44822088]\n",
      " [0.36787944 0.44822088 0.51979489 0.57375342 0.60279818 0.60279818\n",
      "  0.57375342 0.51979489 0.44822088 0.36787944]]\n"
     ]
    }
   ],
   "source": [
    "x,y=np.meshgrid(np.linspace(-1,1,10),np.linspace(-1,1,10))\n",
    "d=np.sqrt(x*x+y*y)\n",
    "sigma,mu=1,0\n",
    "g=np.exp(-((d-mu)**2/(2*sigma**2)))\n",
    "print(g)"
   ]
  },
  {
   "cell_type": "markdown",
   "metadata": {},
   "source": [
    " 57. How to randomly place p elements in a 2D array? (★★☆) \n",
    "(**hint**: np.put, np.random.choice)"
   ]
  },
  {
   "cell_type": "code",
   "execution_count": 23,
   "metadata": {},
   "outputs": [
    {
     "name": "stdout",
     "output_type": "stream",
     "text": [
      "[[0. 0. 0. 0. 0. 0. 1. 0. 0. 0.]\n",
      " [0. 0. 0. 0. 0. 0. 0. 0. 0. 0.]\n",
      " [0. 0. 0. 0. 0. 0. 0. 0. 0. 0.]\n",
      " [0. 1. 0. 0. 0. 0. 0. 0. 0. 0.]\n",
      " [0. 0. 0. 0. 0. 0. 0. 0. 0. 0.]\n",
      " [0. 0. 0. 0. 0. 0. 0. 0. 1. 0.]\n",
      " [0. 0. 0. 0. 0. 0. 0. 0. 0. 0.]\n",
      " [0. 0. 0. 0. 0. 0. 0. 0. 0. 0.]\n",
      " [0. 0. 0. 0. 0. 0. 0. 0. 0. 0.]\n",
      " [0. 0. 0. 0. 0. 0. 0. 0. 0. 0.]]\n"
     ]
    }
   ],
   "source": [
    "num = 10\n",
    "p = 3\n",
    "a = np.zeros((num,num))\n",
    "np.put(a, np.random.choice(range(n*n), p, replace=False),1)\n",
    "print(a)"
   ]
  },
  {
   "cell_type": "markdown",
   "metadata": {},
   "source": [
    "#### 58. Subtract the mean of each row of a matrix (★★☆) \n",
    "(**hint**: mean(axis=,keepdims=))"
   ]
  },
  {
   "cell_type": "code",
   "execution_count": 35,
   "metadata": {},
   "outputs": [
    {
     "name": "stdout",
     "output_type": "stream",
     "text": [
      "[[ 0.26906124 -0.04706062 -0.82888663 -1.13751654 -0.18649012  0.81752527\n",
      "   1.10000902  0.50619187 -0.64048431  0.14765081]\n",
      " [ 0.90661026  1.35813292  0.48847472 -0.54540604 -0.46406473 -0.88311173\n",
      "  -0.28557356 -0.61624079  0.25594975 -0.2147708 ]\n",
      " [-0.39025447  1.04991511  0.18725231  0.977731   -1.82807286 -1.59612237\n",
      "   0.38622748  1.33610324 -1.31634527  1.19356583]\n",
      " [-1.54946798  0.26868222 -0.10652868  0.70006718 -0.82713576  1.16707745\n",
      "   0.8803799  -0.66147109  0.47665827 -0.34826151]\n",
      " [ 0.99635749  0.1136217  -0.9138779  -0.16435273  1.41019985 -0.87196049\n",
      "  -0.90582586  0.90368626  0.40247918 -0.97032749]\n",
      " [ 1.95501521  1.13458607  0.60005956  0.44902067 -0.93459111 -1.75154004\n",
      "   1.01174512 -0.56009528 -0.0570169  -1.84718331]\n",
      " [ 0.0939128  -2.10600044  0.35751668  1.34740244 -0.64865596  1.44014127\n",
      "  -2.21246066 -1.12354202  1.89522244  0.95646345]\n",
      " [-0.99447936 -0.95538851 -1.75796788 -0.60324884  0.59541986  0.17321197\n",
      "   1.13778456  0.64690156  0.94457356  0.81319307]\n",
      " [-0.08523198 -0.58555158 -1.34129424 -0.70844754 -0.35697776  0.02578884\n",
      "   0.71049778 -0.51887908  1.20159523  1.65850033]\n",
      " [ 0.20119771 -0.32670324 -0.16401642  1.46609496 -0.76296313  1.22262215\n",
      "   2.09002657 -2.18722174 -1.29429288 -0.24474399]]\n"
     ]
    }
   ],
   "source": [
    "a=np.random.randn(10,10)\n",
    "b=a-np.mean(a,axis=1,keepdims=True)\n",
    "print(b)"
   ]
  },
  {
   "cell_type": "markdown",
   "metadata": {},
   "source": [
    "#### 59. How to sort an array by the nth column? (★★☆) \n",
    "(**hint**: argsort)"
   ]
  },
  {
   "cell_type": "code",
   "execution_count": 42,
   "metadata": {},
   "outputs": [
    {
     "name": "stdout",
     "output_type": "stream",
     "text": [
      "[[ 6  4  7  1  7]\n",
      " [18 15  2  7  5]\n",
      " [15  1 15 19 10]\n",
      " [11  6  0 13 19]\n",
      " [ 2 14 11  0  4]]\n",
      "[[15  1 15 19 10]\n",
      " [ 6  4  7  1  7]\n",
      " [11  6  0 13 19]\n",
      " [ 2 14 11  0  4]\n",
      " [18 15  2  7  5]]\n"
     ]
    }
   ],
   "source": [
    "a=np.random.randint(0,20,(5,5))\n",
    "print(a)\n",
    "n=1\n",
    "print(a[a[:,n].argsort()])    # sorting column 1 wise all rows gets realigned based on col 1"
   ]
  },
  {
   "cell_type": "markdown",
   "metadata": {},
   "source": [
    "#### 60. How to tell if a given 2D array has null columns? (★★☆) \n",
    "(**hint**: any, ~)"
   ]
  },
  {
   "cell_type": "code",
   "execution_count": 44,
   "metadata": {},
   "outputs": [
    {
     "name": "stdout",
     "output_type": "stream",
     "text": [
      "False\n"
     ]
    }
   ],
   "source": [
    "a=np.random.randint(0,3,(3,10))\n",
    "print((~a.any(axis=0).any()))        #will return true if all elements are 0's"
   ]
  },
  {
   "cell_type": "markdown",
   "metadata": {},
   "source": [
    "#### 61. Find the nearest value from a given value in an array (★★☆) \n",
    "(**hint**: np.abs, argmin, flat)"
   ]
  },
  {
   "cell_type": "code",
   "execution_count": 59,
   "metadata": {},
   "outputs": [
    {
     "name": "stdout",
     "output_type": "stream",
     "text": [
      "0.5235768792445172\n"
     ]
    }
   ],
   "source": [
    "a=np.random.uniform(0,1,10)\n",
    "b=0.5\n",
    "c=a.flat[np.abs(a-b).argmin()]\n",
    "print(c)"
   ]
  },
  {
   "cell_type": "markdown",
   "metadata": {},
   "source": [
    "#### 62. Considering two arrays with shape (1,3) and (3,1), how to compute their sum using an iterator? (★★☆) \n",
    "(**hint**: np.nditer)"
   ]
  },
  {
   "cell_type": "code",
   "execution_count": 97,
   "metadata": {},
   "outputs": [
    {
     "name": "stdout",
     "output_type": "stream",
     "text": [
      "[[5 6 7]\n",
      " [6 7 8]\n",
      " [7 8 9]]\n"
     ]
    }
   ],
   "source": [
    "a=np.arange(3).reshape(1,3)\n",
    "b=np.arange(5,8).reshape(3,1)\n",
    "it=np.nditer([a,b,None])\n",
    "for i,j,k in it:\n",
    "    k[...]=i+j\n",
    "print(it.operands[2])          #extracting K th storage"
   ]
  },
  {
   "cell_type": "markdown",
   "metadata": {},
   "source": [
    "#### 63. Create an array class that has a name attribute (★★☆) \n",
    "(**hint**: class method)"
   ]
  },
  {
   "cell_type": "code",
   "execution_count": 106,
   "metadata": {},
   "outputs": [
    {
     "name": "stdout",
     "output_type": "stream",
     "text": [
      "abc\n"
     ]
    }
   ],
   "source": [
    "class NamedArray(np.ndarray):\n",
    "    def __new__(self,obj,name=\"no name\"):\n",
    "        self.name=name\n",
    "        return self\n",
    "z=NamedArray(np.arange(10),\"abc\")\n",
    "print(z.name)"
   ]
  },
  {
   "cell_type": "markdown",
   "metadata": {},
   "source": [
    "#### 64. Consider a given vector, how to add 1 to each element indexed by a second vector (be careful with repeated indices)? (★★★) \n",
    "(**hint**: np.bincount | np.add.at)"
   ]
  },
  {
   "cell_type": "code",
   "execution_count": 112,
   "metadata": {},
   "outputs": [
    {
     "name": "stdout",
     "output_type": "stream",
     "text": [
      "[2. 1. 3. 1. 2. 2. 1. 2. 3. 3.]\n"
     ]
    }
   ],
   "source": [
    "a=np.ones(10)\n",
    "I=np.random.randint(0,len(a),10)\n",
    "a=a+np.bincount(I,minlength=len(a))\n",
    "print(a)"
   ]
  },
  {
   "cell_type": "markdown",
   "metadata": {},
   "source": [
    "#### 65. How to accumulate elements of a vector (X) to an array (F) based on an index list (I)? (★★★) \n",
    "(**hint**: np.bincount)"
   ]
  },
  {
   "cell_type": "code",
   "execution_count": 127,
   "metadata": {},
   "outputs": [
    {
     "data": {
      "text/plain": [
       "array([0., 0., 0., 1., 0., 2., 0., 3., 0., 4.])"
      ]
     },
     "execution_count": 127,
     "metadata": {},
     "output_type": "execute_result"
    }
   ],
   "source": [
    "X=np.arange(5)\n",
    "I=np.array([1,3,5,7,9])\n",
    "F=np.bincount(I,X)\n",
    "F"
   ]
  },
  {
   "cell_type": "markdown",
   "metadata": {},
   "source": [
    "#### 66. Considering a (w,h,3) image of (dtype=ubyte), compute the number of unique colors (★★★) \n",
    "(**hint**: np.unique)"
   ]
  },
  {
   "cell_type": "code",
   "execution_count": 138,
   "metadata": {},
   "outputs": [
    {
     "name": "stdout",
     "output_type": "stream",
     "text": [
      "[0 1]\n"
     ]
    }
   ],
   "source": [
    "w,h=16,16\n",
    "a=np.random.randint(0,2,(h,w,3)).astype(np.ubyte)\n",
    "b=a[...,0]*256*256+I[...,1]*256+I[...,2]\n",
    "print(np.unique(I))"
   ]
  },
  {
   "cell_type": "markdown",
   "metadata": {},
   "source": [
    "#### 67. Considering a four dimensions array, how to get sum over the last two axis at once? (★★★) \n",
    "(**hint**: sum(axis=(-2,-1)))"
   ]
  },
  {
   "cell_type": "code",
   "execution_count": 13,
   "metadata": {},
   "outputs": [
    {
     "name": "stdout",
     "output_type": "stream",
     "text": [
      "[[120 376]\n",
      " [632 888]]\n"
     ]
    }
   ],
   "source": [
    "a=np.arange(64).reshape(2,2,4,4)\n",
    "#print(a)\n",
    "print(a.sum(axis=(-2,-1)))"
   ]
  },
  {
   "cell_type": "markdown",
   "metadata": {},
   "source": [
    "#### 68. Considering a one-dimensional vector D, how to compute means of subsets of D using a vector S of same size describing subset  indices? (★★★) \n",
    "(**hint**: np.bincount)"
   ]
  },
  {
   "cell_type": "code",
   "execution_count": 33,
   "metadata": {},
   "outputs": [
    {
     "name": "stdout",
     "output_type": "stream",
     "text": [
      "[0.12423747 0.56773016 0.42081117 0.43460584 0.5073136  0.6738683\n",
      " 0.67439084 0.60803505 0.69061367]\n"
     ]
    }
   ],
   "source": [
    "D=np.random.uniform(0,1,20)\n",
    "S=np.random.randint(0,10,20)\n",
    "D_sum=np.bincount(S,weights=D)\n",
    "D_count=np.bincount(S)\n",
    "D_mean=D_sum/D_count\n",
    "print(D_mean)"
   ]
  },
  {
   "cell_type": "markdown",
   "metadata": {},
   "source": [
    "#### 69. How to get the diagonal of a dot product? (★★★) \n",
    "(**hint**: np.diag)"
   ]
  },
  {
   "cell_type": "code",
   "execution_count": 40,
   "metadata": {},
   "outputs": [
    {
     "name": "stdout",
     "output_type": "stream",
     "text": [
      "[ 400 1310 2270 3280 4340]\n"
     ]
    }
   ],
   "source": [
    "a=np.arange(25).reshape(5,5)\n",
    "b=np.arange(25,50).reshape(5,5)\n",
    "dot_p=np.dot(a,b)\n",
    "#print(dot_p)\n",
    "print(np.diag(dot_p))"
   ]
  },
  {
   "cell_type": "markdown",
   "metadata": {},
   "source": [
    "#### 70. Consider the vector \\[1, 2, 3, 4, 5\\], how to build a new vector with 3 consecutive zeros interleaved between each value? (★★★) \n",
    "(**hint**: array\\[::4\\])"
   ]
  },
  {
   "cell_type": "code",
   "execution_count": 67,
   "metadata": {},
   "outputs": [
    {
     "name": "stdout",
     "output_type": "stream",
     "text": [
      "[1. 0. 0. 0. 2. 0. 0. 0. 3. 0. 0. 0. 4. 0. 0. 0. 5.]\n"
     ]
    }
   ],
   "source": [
    "a=np.array([1,2,3,4,5])\n",
    "no_of_zeros=3\n",
    "#print(a)\n",
    "no_of_zeros_to_be_added=no_of_zeros*(len(a)-1)\n",
    "b=np.zeros(len(a)+no_of_zeros_to_be_added)\n",
    "#print(b)\n",
    "b[::no_of_zeros+1]=a\n",
    "print(b)"
   ]
  },
  {
   "cell_type": "markdown",
   "metadata": {},
   "source": [
    "#### 71. Consider an array of dimension (5,5,3), how to mulitply it by an array with dimensions (5,5)? (★★★) \n",
    "(**hint**: array\\[:, :, None\\])"
   ]
  },
  {
   "cell_type": "code",
   "execution_count": 81,
   "metadata": {},
   "outputs": [
    {
     "name": "stdout",
     "output_type": "stream",
     "text": [
      "[[[   0    0    0]\n",
      "  [   3    4    5]\n",
      "  [  12   14   16]\n",
      "  [  27   30   33]\n",
      "  [  48   52   56]]\n",
      "\n",
      " [[  75   80   85]\n",
      "  [ 108  114  120]\n",
      "  [ 147  154  161]\n",
      "  [ 192  200  208]\n",
      "  [ 243  252  261]]\n",
      "\n",
      " [[ 300  310  320]\n",
      "  [ 363  374  385]\n",
      "  [ 432  444  456]\n",
      "  [ 507  520  533]\n",
      "  [ 588  602  616]]\n",
      "\n",
      " [[ 675  690  705]\n",
      "  [ 768  784  800]\n",
      "  [ 867  884  901]\n",
      "  [ 972  990 1008]\n",
      "  [1083 1102 1121]]\n",
      "\n",
      " [[1200 1220 1240]\n",
      "  [1323 1344 1365]\n",
      "  [1452 1474 1496]\n",
      "  [1587 1610 1633]\n",
      "  [1728 1752 1776]]]\n"
     ]
    }
   ],
   "source": [
    "a=np.arange(75).reshape(5,5,3)\n",
    "b=np.arange(25).reshape(5,5)\n",
    "print(a*b[:,:,None])"
   ]
  },
  {
   "cell_type": "markdown",
   "metadata": {},
   "source": [
    "#### 72. How to swap two rows of an array? (★★★) \n",
    "(**hint**: array\\[\\[\\]\\] = array\\[\\[\\]\\])"
   ]
  },
  {
   "cell_type": "code",
   "execution_count": 103,
   "metadata": {},
   "outputs": [
    {
     "name": "stdout",
     "output_type": "stream",
     "text": [
      "[[20 21 22 23 24]\n",
      " [ 5  6  7  8  9]\n",
      " [10 11 12 13 14]\n",
      " [15 16 17 18 19]\n",
      " [ 0  1  2  3  4]]\n"
     ]
    }
   ],
   "source": [
    "A=np.arange(25).reshape(5,5)\n",
    "#print(A)\n",
    "A[[0,4]] = A[[4,0]]\n",
    "print(A)"
   ]
  },
  {
   "cell_type": "markdown",
   "metadata": {},
   "source": [
    "#### 73. Consider a set of 10 triplets describing 10 triangles (with shared vertices), find the set of unique line segments composing all the  triangles (★★★) \n",
    "(**hint**: repeat, np.roll, np.sort, view, np.unique)"
   ]
  },
  {
   "cell_type": "code",
   "execution_count": 133,
   "metadata": {},
   "outputs": [
    {
     "name": "stdout",
     "output_type": "stream",
     "text": [
      "[( 0, 36) ( 0, 95) ( 2, 20) ( 2, 68) ( 4, 83) ( 4, 95) ( 6,  7) ( 6, 60)\n",
      " ( 7, 32) ( 7, 60) ( 7, 66) ( 9, 11) ( 9, 97) (11, 97) (19, 36) (19, 75)\n",
      " (20, 68) (26, 62) (26, 77) (30, 32) (30, 45) (32, 45) (32, 66) (36, 75)\n",
      " (36, 95) (48, 54) (48, 72) (54, 72) (62, 77) (83, 95)]\n"
     ]
    }
   ],
   "source": [
    "f=np.random.randint(0,100,(10,3))\n",
    "c=f.repeat(2,axis=1)   #twice each columns are repeated\n",
    "F=np.roll(c,-1,axis=1)  #shift column wise\n",
    "F=F.reshape(len(F)*3,2)    #reshaping matrix to (30,2)\n",
    "F=np.sort(F,axis=1)\n",
    "G=F.view(dtype=[('p0',f.dtype),('p1',f.dtype)])\n",
    "print(np.unique(G))"
   ]
  },
  {
   "cell_type": "markdown",
   "metadata": {},
   "source": [
    "#### 74. Given an array C that is a bincount, how to produce an array A such that np.bincount(A) == C? (★★★) \n",
    "(**hint**: np.repeat)"
   ]
  },
  {
   "cell_type": "code",
   "execution_count": 145,
   "metadata": {},
   "outputs": [
    {
     "name": "stdout",
     "output_type": "stream",
     "text": [
      "[0 2 1 1 2 0 1]\n",
      "[1 1 2 3 4 4 6]\n"
     ]
    }
   ],
   "source": [
    "C=np.bincount([1,1,2,3,4,4,6])\n",
    "print(C)\n",
    "A=np.repeat(np.arange(len(C)),C)\n",
    "print(A)\n",
    "#print(np.bincount(A))"
   ]
  },
  {
   "cell_type": "markdown",
   "metadata": {},
   "source": [
    "#### 75. How to compute averages using a sliding window over an array? (★★★) \n",
    "(**hint**: np.cumsum)"
   ]
  },
  {
   "cell_type": "code",
   "execution_count": 164,
   "metadata": {},
   "outputs": [
    {
     "name": "stdout",
     "output_type": "stream",
     "text": [
      "[ 1.  2.  3.  4.  5.  6.  7.  8.  9. 10. 11. 12. 13. 14. 15. 16. 17. 18.]\n"
     ]
    }
   ],
   "source": [
    "def moving_avg(a,n):\n",
    "    r=np.cumsum(a,dtype=float)\n",
    "    r[n:]=r[n:]-r[:-n]\n",
    "    return r[n-1:]/n    \n",
    "a=np.arange(20)\n",
    "r=moving_avg(a,3)\n",
    "print(r)"
   ]
  },
  {
   "cell_type": "markdown",
   "metadata": {},
   "source": [
    "#### 76. Consider a one-dimensional array Z, build a two-dimensional array whose first row is (Z\\[0\\],Z\\[1\\],Z\\[2\\]) and each subsequent row is  shifted by 1 (last row should be (Z\\[-3\\],Z\\[-2\\],Z\\[-1\\]) (★★★) \n",
    "(**hint**: from numpy.lib import stride_tricks)"
   ]
  },
  {
   "cell_type": "code",
   "execution_count": 171,
   "metadata": {},
   "outputs": [
    {
     "name": "stdout",
     "output_type": "stream",
     "text": [
      "[[0 1 2]\n",
      " [1 2 3]\n",
      " [2 3 4]\n",
      " [3 4 5]\n",
      " [4 5 6]\n",
      " [5 6 7]\n",
      " [6 7 8]\n",
      " [7 8 9]]\n"
     ]
    }
   ],
   "source": [
    "from numpy.lib import stride_tricks\n",
    "def rolling(a,n):\n",
    "    shape=(a.size-n+1,n)\n",
    "    strides=(a.itemsize,a.itemsize)\n",
    "    return stride_tricks.as_strided(a,shape=shape,strides=strides)\n",
    "r=rolling(np.arange(10),3)\n",
    "print(r)"
   ]
  },
  {
   "cell_type": "markdown",
   "metadata": {},
   "source": [
    "#### 77. How to negate a boolean, or to change the sign of a float inplace? (★★★) \n",
    "(**hint**: np.logical_not, np.negative)"
   ]
  },
  {
   "cell_type": "code",
   "execution_count": 187,
   "metadata": {},
   "outputs": [
    {
     "name": "stdout",
     "output_type": "stream",
     "text": [
      "[False False False False False False False  True False False]\n",
      "[-0.58437217 -0.34193313 -0.632855    0.34982938  0.7784353   0.08405388\n",
      "  0.98228914  0.29874667 -0.13084636 -0.37719705]\n"
     ]
    }
   ],
   "source": [
    "a=np.random.randint(0,20,10)\n",
    "#print(a)\n",
    "print(np.logical_not(a))\n",
    "b=np.random.uniform(-1,1,10)\n",
    "#print(b)\n",
    "print(np.negative(b))"
   ]
  },
  {
   "cell_type": "markdown",
   "metadata": {},
   "source": [
    "#### 78. Consider 2 sets of points P0,P1 describing lines (2d) and a point p, how to compute distance from p to each line i  (P0\\[i\\],P1\\[i\\])? (★★★)"
   ]
  },
  {
   "cell_type": "code",
   "execution_count": 30,
   "metadata": {},
   "outputs": [
    {
     "name": "stdout",
     "output_type": "stream",
     "text": [
      "[ 7.83136545  8.77795937  8.72069605 15.21812618  8.68136912  1.56055252\n",
      " 11.86147308 14.04129999  8.11074648  3.31450862]\n"
     ]
    }
   ],
   "source": [
    "def distance(P0,P1,p):\n",
    "    T=P1-P0\n",
    "    L=(T**2).sum(axis=1)\n",
    "    U=-((P0[:,0]-p[...,0])*T[:,0]+(P1[:,1]-p[...,1])*T[:,1])/L\n",
    "    U=U.reshape(len(U),1)\n",
    "    D=P0+U*T-p\n",
    "    return np.sqrt((D**2).sum(axis=1))\n",
    "P0=np.random.uniform(-10,10,(10,2))\n",
    "P1=np.random.uniform(-10,10,(10,2))\n",
    "p=np.random.uniform(-10,10,(1,2))\n",
    "print(distance(P0,P1,p))"
   ]
  },
  {
   "cell_type": "markdown",
   "metadata": {},
   "source": [
    "#### 79. Consider 2 sets of points P0,P1 describing lines (2d) and a set of points P, how to compute distance from each point j (P\\[j\\]) to each line i (P0\\[i\\],P1\\[i\\])? (★★★)"
   ]
  },
  {
   "cell_type": "code",
   "execution_count": 33,
   "metadata": {},
   "outputs": [
    {
     "name": "stdout",
     "output_type": "stream",
     "text": [
      "[[14.0409853   5.76011332  6.13830745  9.23141686  2.25992695  8.63527402\n",
      "   9.92726223 10.95347371  4.55354984  7.09324548]\n",
      " [19.7288709   4.23725409 14.79864802 18.26658616  6.37728397 15.23463585\n",
      "   6.36334595  9.12623361 16.76302887  8.98102608]\n",
      " [14.85695532  3.2885256   9.65010038 12.87225482  4.24696532  9.76975283\n",
      "   9.01984483  9.27516308  9.21129161  5.59099769]\n",
      " [14.37692271  3.4341972   7.76391818 10.96415847  2.69061233  9.01288591\n",
      "   8.51107414  9.43025848  7.21314047  5.70243894]\n",
      " [14.69339926  3.3506858   5.85242565  2.93998518 10.66469682 11.96046002\n",
      "   4.76348398  8.5453837   4.37290471  5.61262881]\n",
      " [14.04793271  7.57644818  7.49834381 10.54157061  4.14819796  8.63457642\n",
      "  11.90962974 12.16913899  5.23575275  8.19321023]\n",
      " [14.75718485  2.54451109  8.33070197 11.57974961  2.70285183  9.41322166\n",
      "   7.7701772   8.93683298  8.27608344  5.56290605]\n",
      " [15.17609849  3.14818454  3.3427078   1.63986235  6.61081322 11.71689489\n",
      "   5.12321791  9.74562987  3.5657379   6.62850949]\n",
      " [14.12131355  4.69522167  3.73698401  6.81588707  0.2965681   8.90909806\n",
      "   8.2063609  10.3934713   2.48332303  6.75804616]\n",
      " [14.3621709   2.48257133  6.47599825  9.71017615  1.05521612  8.84572177\n",
      "   7.09015863  8.95813513  6.41550051  5.56162576]]\n"
     ]
    }
   ],
   "source": [
    "def distance(P0,P1,p):\n",
    "    T=P1-P0\n",
    "    L=(T**2).sum(axis=1)\n",
    "    U=-((P0[:,0]-p[...,0])*T[:,0]+(P1[:,1]-p[...,1])*T[:,1])/L\n",
    "    U=U.reshape(len(U),1)\n",
    "    D=P0+U*T-p\n",
    "    return np.sqrt((D**2).sum(axis=1))\n",
    "P0=np.random.uniform(-10,10,(10,2))\n",
    "P1=np.random.uniform(-10,10,(10,2))\n",
    "p=np.random.uniform(-10,10,(10,2))\n",
    "print(np.array([distance(P0,P1,p_i) for p_i in p]))"
   ]
  },
  {
   "cell_type": "markdown",
   "metadata": {},
   "source": [
    " 80. Consider an arbitrary array, write a function that extract a subpart with a fixed shape and centered on a given element (pad with a `fill` value when necessary) (★★★) \n",
    "(**hint**: minimum, maximum)"
   ]
  },
  {
   "cell_type": "code",
   "execution_count": 2,
   "metadata": {},
   "outputs": [
    {
     "name": "stdout",
     "output_type": "stream",
     "text": [
      "[[8 2 0 3 1 8 3 5 6 5]\n",
      " [0 3 1 8 9 1 2 8 8 4]\n",
      " [7 1 0 6 6 0 2 0 7 2]\n",
      " [6 9 1 4 4 5 4 1 8 2]\n",
      " [8 6 5 7 2 7 1 8 0 3]\n",
      " [3 3 0 9 7 0 4 3 8 6]\n",
      " [5 5 2 6 6 9 0 7 1 1]\n",
      " [2 6 6 4 4 9 3 6 1 7]\n",
      " [3 3 3 9 9 5 3 5 3 3]\n",
      " [3 9 4 7 2 3 0 1 2 3]]\n",
      "[[8 2 0 3 1 8 3 5 6 5]\n",
      " [0 3 1 8 9 1 2 8 8 4]\n",
      " [7 1 0 6 6 0 2 0 7 2]\n",
      " [6 9 1 4 4 5 4 1 8 2]]\n"
     ]
    }
   ],
   "source": [
    "import numpy as np\n",
    "Z = np.random.randint(0,10,(10,10))\n",
    "shape = (5,5)\n",
    "fill  = 0\n",
    "position = (1,1)\n",
    "\n",
    "R = np.ones(shape, dtype=Z.dtype)*fill\n",
    "P  = np.array(list(position)).astype(int)\n",
    "Rs = np.array(list(R.shape)).astype(int)\n",
    "Zs = np.array(list(Z.shape)).astype(int)\n",
    "\n",
    "R_start = np.zeros((len(shape),)).astype(int)\n",
    "R_stop  = np.array(list(shape)).astype(int)\n",
    "Z_start = (P-Rs//2)\n",
    "Z_stop  = (P+Rs//2)+Rs%2\n",
    "\n",
    "R_start = (R_start - np.minimum(Z_start,0)).tolist()\n",
    "Z_start = (np.maximum(Z_start,0)).tolist()\n",
    "R_stop = np.maximum(R_start, (R_stop - np.maximum(Z_stop-Zs,0))).tolist()\n",
    "Z_stop = (np.minimum(Z_stop,Zs)).tolist()\n",
    "\n",
    "r = [slice(start,stop) for start,stop in zip(R_start,R_stop)]\n",
    "z = [slice(start,stop) for start,stop in zip(Z_start,Z_stop)]\n",
    "R= Z[z[0]]\n",
    "print(Z)\n",
    "print(R)"
   ]
  },
  {
   "cell_type": "markdown",
   "metadata": {},
   "source": [
    "#### 81. Consider an array Z = \\[1,2,3,4,5,6,7,8,9,10,11,12,13,14\\], how to generate an array R = \\[\\[1,2,3,4\\], \\[2,3,4,5\\], \\[3,4,5,6\\], ..., \\[11,12,13,14\\]\\]? (★★★) \n",
    "(**hint**: stride\\_tricks.as\\_strided)"
   ]
  },
  {
   "cell_type": "code",
   "execution_count": 59,
   "metadata": {},
   "outputs": [
    {
     "name": "stdout",
     "output_type": "stream",
     "text": [
      "[[ 1  2  3  4]\n",
      " [ 2  3  4  5]\n",
      " [ 3  4  5  6]\n",
      " [ 4  5  6  7]\n",
      " [ 5  6  7  8]\n",
      " [ 6  7  8  9]\n",
      " [ 7  8  9 10]\n",
      " [ 8  9 10 11]\n",
      " [ 9 10 11 12]\n",
      " [10 11 12 13]\n",
      " [11 12 13 14]]\n"
     ]
    }
   ],
   "source": [
    "from numpy.lib import stride_tricks\n",
    "a=np.arange(1,15,dtype=np.uint32)\n",
    "#print(a)\n",
    "b=stride_tricks.as_strided(a,(11,4),(4,4))\n",
    "print(b)"
   ]
  },
  {
   "cell_type": "markdown",
   "metadata": {},
   "source": [
    "#### 82. Compute a matrix rank (★★★) \n",
    "(**hint**: np.linalg.svd) (suggestion: np.linalg.svd)"
   ]
  },
  {
   "cell_type": "code",
   "execution_count": 67,
   "metadata": {},
   "outputs": [
    {
     "name": "stdout",
     "output_type": "stream",
     "text": [
      "10\n"
     ]
    }
   ],
   "source": [
    "a=np.random.uniform(0,1,(10,10))\n",
    "U,S,V=np.linalg.svd(a)\n",
    "rank=np.sum(S>1e-10)\n",
    "print(rank)"
   ]
  },
  {
   "cell_type": "markdown",
   "metadata": {},
   "source": [
    "#### 83. How to find the most frequent value in an array? \n",
    "(**hint**: np.bincount, argmax)"
   ]
  },
  {
   "cell_type": "code",
   "execution_count": 80,
   "metadata": {},
   "outputs": [
    {
     "name": "stdout",
     "output_type": "stream",
     "text": [
      "5\n"
     ]
    }
   ],
   "source": [
    "a=np.array([1,2,2,3,3,4,3,4,5,5,5,5,5,5,7])\n",
    "b=np.bincount(a)\n",
    "#print(b)\n",
    "print(np.argmax(b))"
   ]
  },
  {
   "cell_type": "markdown",
   "metadata": {},
   "source": [
    "#### 84. Extract all the contiguous 3x3 blocks from a random 10x10 matrix (★★★) \n",
    "(**hint**: stride\\_tricks.as\\_strided)"
   ]
  },
  {
   "cell_type": "code",
   "execution_count": 90,
   "metadata": {},
   "outputs": [
    {
     "name": "stdout",
     "output_type": "stream",
     "text": [
      "[[[[3 1 1]\n",
      "   [0 3 2]\n",
      "   [2 0 4]]\n",
      "\n",
      "  [[1 1 0]\n",
      "   [3 2 0]\n",
      "   [0 4 2]]\n",
      "\n",
      "  [[1 0 3]\n",
      "   [2 0 0]\n",
      "   [4 2 1]]\n",
      "\n",
      "  [[0 3 4]\n",
      "   [0 0 4]\n",
      "   [2 1 4]]\n",
      "\n",
      "  [[3 4 3]\n",
      "   [0 4 2]\n",
      "   [1 4 4]]\n",
      "\n",
      "  [[4 3 3]\n",
      "   [4 2 3]\n",
      "   [4 4 1]]\n",
      "\n",
      "  [[3 3 2]\n",
      "   [2 3 4]\n",
      "   [4 1 0]]\n",
      "\n",
      "  [[3 2 4]\n",
      "   [3 4 3]\n",
      "   [1 0 1]]]\n",
      "\n",
      "\n",
      " [[[0 3 2]\n",
      "   [2 0 4]\n",
      "   [4 3 4]]\n",
      "\n",
      "  [[3 2 0]\n",
      "   [0 4 2]\n",
      "   [3 4 0]]\n",
      "\n",
      "  [[2 0 0]\n",
      "   [4 2 1]\n",
      "   [4 0 4]]\n",
      "\n",
      "  [[0 0 4]\n",
      "   [2 1 4]\n",
      "   [0 4 2]]\n",
      "\n",
      "  [[0 4 2]\n",
      "   [1 4 4]\n",
      "   [4 2 0]]\n",
      "\n",
      "  [[4 2 3]\n",
      "   [4 4 1]\n",
      "   [2 0 0]]\n",
      "\n",
      "  [[2 3 4]\n",
      "   [4 1 0]\n",
      "   [0 0 4]]\n",
      "\n",
      "  [[3 4 3]\n",
      "   [1 0 1]\n",
      "   [0 4 0]]]\n",
      "\n",
      "\n",
      " [[[2 0 4]\n",
      "   [4 3 4]\n",
      "   [1 4 1]]\n",
      "\n",
      "  [[0 4 2]\n",
      "   [3 4 0]\n",
      "   [4 1 3]]\n",
      "\n",
      "  [[4 2 1]\n",
      "   [4 0 4]\n",
      "   [1 3 3]]\n",
      "\n",
      "  [[2 1 4]\n",
      "   [0 4 2]\n",
      "   [3 3 1]]\n",
      "\n",
      "  [[1 4 4]\n",
      "   [4 2 0]\n",
      "   [3 1 2]]\n",
      "\n",
      "  [[4 4 1]\n",
      "   [2 0 0]\n",
      "   [1 2 0]]\n",
      "\n",
      "  [[4 1 0]\n",
      "   [0 0 4]\n",
      "   [2 0 2]]\n",
      "\n",
      "  [[1 0 1]\n",
      "   [0 4 0]\n",
      "   [0 2 4]]]\n",
      "\n",
      "\n",
      " [[[4 3 4]\n",
      "   [1 4 1]\n",
      "   [2 1 4]]\n",
      "\n",
      "  [[3 4 0]\n",
      "   [4 1 3]\n",
      "   [1 4 1]]\n",
      "\n",
      "  [[4 0 4]\n",
      "   [1 3 3]\n",
      "   [4 1 2]]\n",
      "\n",
      "  [[0 4 2]\n",
      "   [3 3 1]\n",
      "   [1 2 2]]\n",
      "\n",
      "  [[4 2 0]\n",
      "   [3 1 2]\n",
      "   [2 2 0]]\n",
      "\n",
      "  [[2 0 0]\n",
      "   [1 2 0]\n",
      "   [2 0 0]]\n",
      "\n",
      "  [[0 0 4]\n",
      "   [2 0 2]\n",
      "   [0 0 3]]\n",
      "\n",
      "  [[0 4 0]\n",
      "   [0 2 4]\n",
      "   [0 3 3]]]\n",
      "\n",
      "\n",
      " [[[1 4 1]\n",
      "   [2 1 4]\n",
      "   [2 0 4]]\n",
      "\n",
      "  [[4 1 3]\n",
      "   [1 4 1]\n",
      "   [0 4 0]]\n",
      "\n",
      "  [[1 3 3]\n",
      "   [4 1 2]\n",
      "   [4 0 0]]\n",
      "\n",
      "  [[3 3 1]\n",
      "   [1 2 2]\n",
      "   [0 0 4]]\n",
      "\n",
      "  [[3 1 2]\n",
      "   [2 2 0]\n",
      "   [0 4 2]]\n",
      "\n",
      "  [[1 2 0]\n",
      "   [2 0 0]\n",
      "   [4 2 4]]\n",
      "\n",
      "  [[2 0 2]\n",
      "   [0 0 3]\n",
      "   [2 4 0]]\n",
      "\n",
      "  [[0 2 4]\n",
      "   [0 3 3]\n",
      "   [4 0 1]]]\n",
      "\n",
      "\n",
      " [[[2 1 4]\n",
      "   [2 0 4]\n",
      "   [3 3 1]]\n",
      "\n",
      "  [[1 4 1]\n",
      "   [0 4 0]\n",
      "   [3 1 4]]\n",
      "\n",
      "  [[4 1 2]\n",
      "   [4 0 0]\n",
      "   [1 4 2]]\n",
      "\n",
      "  [[1 2 2]\n",
      "   [0 0 4]\n",
      "   [4 2 0]]\n",
      "\n",
      "  [[2 2 0]\n",
      "   [0 4 2]\n",
      "   [2 0 2]]\n",
      "\n",
      "  [[2 0 0]\n",
      "   [4 2 4]\n",
      "   [0 2 3]]\n",
      "\n",
      "  [[0 0 3]\n",
      "   [2 4 0]\n",
      "   [2 3 4]]\n",
      "\n",
      "  [[0 3 3]\n",
      "   [4 0 1]\n",
      "   [3 4 4]]]\n",
      "\n",
      "\n",
      " [[[2 0 4]\n",
      "   [3 3 1]\n",
      "   [2 2 0]]\n",
      "\n",
      "  [[0 4 0]\n",
      "   [3 1 4]\n",
      "   [2 0 2]]\n",
      "\n",
      "  [[4 0 0]\n",
      "   [1 4 2]\n",
      "   [0 2 1]]\n",
      "\n",
      "  [[0 0 4]\n",
      "   [4 2 0]\n",
      "   [2 1 0]]\n",
      "\n",
      "  [[0 4 2]\n",
      "   [2 0 2]\n",
      "   [1 0 3]]\n",
      "\n",
      "  [[4 2 4]\n",
      "   [0 2 3]\n",
      "   [0 3 4]]\n",
      "\n",
      "  [[2 4 0]\n",
      "   [2 3 4]\n",
      "   [3 4 1]]\n",
      "\n",
      "  [[4 0 1]\n",
      "   [3 4 4]\n",
      "   [4 1 4]]]\n",
      "\n",
      "\n",
      " [[[3 3 1]\n",
      "   [2 2 0]\n",
      "   [1 2 3]]\n",
      "\n",
      "  [[3 1 4]\n",
      "   [2 0 2]\n",
      "   [2 3 3]]\n",
      "\n",
      "  [[1 4 2]\n",
      "   [0 2 1]\n",
      "   [3 3 0]]\n",
      "\n",
      "  [[4 2 0]\n",
      "   [2 1 0]\n",
      "   [3 0 2]]\n",
      "\n",
      "  [[2 0 2]\n",
      "   [1 0 3]\n",
      "   [0 2 3]]\n",
      "\n",
      "  [[0 2 3]\n",
      "   [0 3 4]\n",
      "   [2 3 1]]\n",
      "\n",
      "  [[2 3 4]\n",
      "   [3 4 1]\n",
      "   [3 1 1]]\n",
      "\n",
      "  [[3 4 4]\n",
      "   [4 1 4]\n",
      "   [1 1 0]]]]\n"
     ]
    }
   ],
   "source": [
    "a=np.random.randint(0,5,(10,10))\n",
    "n=3\n",
    "i=1+(a.shape[0]-3)\n",
    "j=1+(a.shape[1]-3)\n",
    "C=stride_tricks.as_strided(a,shape=(i,j,n,n),strides=a.strides+a.strides)\n",
    "print(C)"
   ]
  },
  {
   "cell_type": "markdown",
   "metadata": {},
   "source": [
    "#### 85. Create a 2D array subclass such that Z\\[i,j\\] == Z\\[j,i\\] (★★★) \n",
    "(**hint**: class method)"
   ]
  },
  {
   "cell_type": "code",
   "execution_count": 130,
   "metadata": {},
   "outputs": [
    {
     "name": "stdout",
     "output_type": "stream",
     "text": [
      "[[ 0  5  1  9  2]\n",
      " [ 5  0  7  7  7]\n",
      " [ 1  7  9 42  8]\n",
      " [ 9  7 42  3 10]\n",
      " [ 2  7  8 10  1]]\n"
     ]
    }
   ],
   "source": [
    "class Symetric(np.ndarray):\n",
    "    def __setitem__(self,index,value):\n",
    "        i,j=index\n",
    "        super(Symetric,self).__setitem__((i,j),value)\n",
    "        super(Symetric,self).__setitem__((j,i),value)\n",
    "def symetric(a):\n",
    "    return np.asarray(a+a.T-np.diag(a.diagonal())).view(Symetric)\n",
    "S=symetric(np.random.randint(0,10,(5,5)))\n",
    "S[2,3]=42\n",
    "print(S)"
   ]
  },
  {
   "cell_type": "markdown",
   "metadata": {},
   "source": [
    "#### 86. Consider a set of p matrices wich shape (n,n) and a set of p vectors with shape (n,1). How to compute the sum of of the p matrix products at once? (result has shape (n,1)) (★★★) \n",
    "(**hint**: np.tensordot)"
   ]
  },
  {
   "cell_type": "code",
   "execution_count": 153,
   "metadata": {},
   "outputs": [
    {
     "name": "stdout",
     "output_type": "stream",
     "text": [
      "[[200.]\n",
      " [200.]\n",
      " [200.]\n",
      " [200.]\n",
      " [200.]\n",
      " [200.]\n",
      " [200.]\n",
      " [200.]\n",
      " [200.]\n",
      " [200.]\n",
      " [200.]\n",
      " [200.]\n",
      " [200.]\n",
      " [200.]\n",
      " [200.]\n",
      " [200.]\n",
      " [200.]\n",
      " [200.]\n",
      " [200.]\n",
      " [200.]]\n"
     ]
    }
   ],
   "source": [
    "p,n=10,20\n",
    "M=np.ones((p,n,n))\n",
    "V=np.ones((p,n,1))\n",
    "S=np.tensordot(M,V,axes=[[0,2],[0,1]])\n",
    "print(S)"
   ]
  },
  {
   "cell_type": "markdown",
   "metadata": {},
   "source": [
    "#### 87. Consider a 16x16 array, how to get the block-sum (block size is 4x4)? (★★★) \n",
    "(**hint**: np.add.reduceat)"
   ]
  },
  {
   "cell_type": "code",
   "execution_count": 150,
   "metadata": {},
   "outputs": [
    {
     "name": "stdout",
     "output_type": "stream",
     "text": [
      "[[16. 16. 16. 16.]\n",
      " [16. 16. 16. 16.]\n",
      " [16. 16. 16. 16.]\n",
      " [16. 16. 16. 16.]]\n"
     ]
    }
   ],
   "source": [
    "a=np.ones((16,16))\n",
    "k=4\n",
    "b=np.add.reduceat(np.add.reduceat(a,np.arange(0,a.shape[0],k),axis=0),\n",
    "                                np.arange(0,a.shape[1],k),axis=1)\n",
    "print(b)"
   ]
  },
  {
   "cell_type": "markdown",
   "metadata": {},
   "source": [
    "#### 88. How to implement the Game of Life using numpy arrays? (★★★)"
   ]
  },
  {
   "cell_type": "code",
   "execution_count": 173,
   "metadata": {},
   "outputs": [
    {
     "name": "stdout",
     "output_type": "stream",
     "text": [
      "[[0 0 0 ... 0 0 0]\n",
      " [0 0 0 ... 0 0 0]\n",
      " [0 0 0 ... 0 0 0]\n",
      " ...\n",
      " [0 0 0 ... 0 0 0]\n",
      " [0 0 0 ... 0 0 0]\n",
      " [0 0 0 ... 0 0 0]]\n"
     ]
    }
   ],
   "source": [
    "def iterated(a):\n",
    "    N = (a[0:-2,0:-2] + a[0:-2,1:-1] + a[0:-2,2:] +\n",
    "         a[1:-1,0:-2]                + a[1:-1,2:] +\n",
    "         a[2:  ,0:-2] + a[2:  ,1:-1] + a[2:  ,2:])\n",
    "    birth = (N==3) & (a[1:-1,1:-1]==0)\n",
    "    survive = ((N==2) | (N==3)) & (a[1:-1,1:-1]==1)\n",
    "    a[...] = 0\n",
    "    a[1:-1,1:-1][birth | survive] = 1\n",
    "    return a\n",
    "a= np.random.randint(0,2,(50,50))\n",
    "for i in range(100):\n",
    "    a = iterateds(a)\n",
    "print(a)"
   ]
  },
  {
   "cell_type": "markdown",
   "metadata": {},
   "source": [
    "#### 89. How to get the n largest values of an array (★★★) \n",
    "(**hint**: np.argsort | np.argpartition)"
   ]
  },
  {
   "cell_type": "code",
   "execution_count": 201,
   "metadata": {},
   "outputs": [
    {
     "name": "stdout",
     "output_type": "stream",
     "text": [
      "[9995 9996 9997 9998 9999]\n",
      "[9995 9999 9998 9997 9996]\n"
     ]
    }
   ],
   "source": [
    "a=np.arange(10000)\n",
    "n=5\n",
    "print(a[np.argsort(a)[-n:]])\n",
    "print(a[np.argpartition(-a,n)[:n]])"
   ]
  },
  {
   "cell_type": "markdown",
   "metadata": {},
   "source": [
    "#### 90. Given an arbitrary number of vectors, build the cartesian product (every combinations of every item) (★★★) \n",
    "(**hint**: np.indices)"
   ]
  },
  {
   "cell_type": "code",
   "execution_count": 222,
   "metadata": {
    "scrolled": true
   },
   "outputs": [
    {
     "name": "stdout",
     "output_type": "stream",
     "text": [
      "[[1 4 6]\n",
      " [1 4 7]\n",
      " [1 5 6]\n",
      " [1 5 7]\n",
      " [2 4 6]\n",
      " [2 4 7]\n",
      " [2 5 6]\n",
      " [2 5 7]\n",
      " [3 4 6]\n",
      " [3 4 7]\n",
      " [3 5 6]\n",
      " [3 5 7]]\n"
     ]
    }
   ],
   "source": [
    "def cartesian(arrays):\n",
    "    arrays = [np.asarray(a) for a in arrays]  #converting array to numpy arr\n",
    "    shape = (len(x) for x in arrays)\n",
    "    ix = np.indices(shape, dtype=int)    #making indices array with idx representation\n",
    "    ix = ix.reshape(len(arrays), -1).T        #consolidating and taking transpose\n",
    "    for n, arr in enumerate(arrays):        #seperating iterators and arrays \n",
    "        ix[:, n] = arrays[n][ix[:, n]]\n",
    "    return ix\n",
    "print (cartesian(([1, 2, 3], [4, 5], [6, 7])))"
   ]
  },
  {
   "cell_type": "markdown",
   "metadata": {},
   "source": [
    "#### 91. How to create a record array from a regular array? (★★★) \n",
    "(**hint**: np.core.records.fromarrays)"
   ]
  },
  {
   "cell_type": "code",
   "execution_count": 231,
   "metadata": {},
   "outputs": [
    {
     "name": "stdout",
     "output_type": "stream",
     "text": [
      "[('hello', '3.7', '6.5') ('world', '7', '4.9')]\n"
     ]
    }
   ],
   "source": [
    "a=np.array([(\"hello\",3.7,6.5),(\"world\",7,4.9)])\n",
    "r=np.core.records.fromarrays(a.T,names=('a','b','c'))    # passing three arrays by transpose and getting core dump \n",
    "print(r)"
   ]
  },
  {
   "cell_type": "markdown",
   "metadata": {},
   "source": [
    "#### 92. Consider a large vector Z, compute Z to the power of 3 using 3 different methods (★★★) \n",
    "(**hint**: np.power, \\*, np.einsum)"
   ]
  },
  {
   "cell_type": "code",
   "execution_count": 6,
   "metadata": {},
   "outputs": [
    {
     "name": "stdout",
     "output_type": "stream",
     "text": [
      "[ 0  1  8 27 64]\n",
      "[ 0  1  8 27 64]\n",
      "[ 0  1  8 27 64]\n"
     ]
    }
   ],
   "source": [
    "Z=np.arange(5)\n",
    "print(np.power(Z,3))\n",
    "print(Z*Z*Z)\n",
    "print(np.einsum('i,i,i->i',Z,Z,Z))"
   ]
  },
  {
   "cell_type": "markdown",
   "metadata": {},
   "source": [
    "#### 93. Consider two arrays A and B of shape (8,3) and (2,2). How to find rows of A that contain elements of each row of B regardless of the order of the elements in B? (★★★) \n",
    "(**hint**: np.where)"
   ]
  },
  {
   "cell_type": "code",
   "execution_count": 10,
   "metadata": {},
   "outputs": [
    {
     "name": "stdout",
     "output_type": "stream",
     "text": [
      "[2 3 4 5 6 7]\n"
     ]
    }
   ],
   "source": [
    "a=np.random.randint(0,5,(8,3))\n",
    "b=np.random.randint(0,5,(2,2))\n",
    "c=(a[..., np.newaxis, np.newaxis] == b)\n",
    "rows = np.where(c.any((3,1)).all(1))[0]\n",
    "print(rows)"
   ]
  },
  {
   "cell_type": "markdown",
   "metadata": {},
   "source": [
    "#### 94. Considering a 10x3 matrix, extract rows with unequal values (e.g. \\[2,2,3\\]) (★★★)"
   ]
  },
  {
   "cell_type": "code",
   "execution_count": 15,
   "metadata": {},
   "outputs": [
    {
     "name": "stdout",
     "output_type": "stream",
     "text": [
      "[[1 3 4]\n",
      " [0 1 2]\n",
      " [1 0 4]\n",
      " [1 1 4]\n",
      " [4 0 0]\n",
      " [0 1 3]\n",
      " [0 0 2]\n",
      " [4 0 0]\n",
      " [0 2 1]\n",
      " [0 2 3]]\n",
      "[[1 3 4]\n",
      " [0 1 2]\n",
      " [1 0 4]\n",
      " [1 1 4]\n",
      " [4 0 0]\n",
      " [0 1 3]\n",
      " [0 0 2]\n",
      " [4 0 0]\n",
      " [0 2 1]\n",
      " [0 2 3]]\n"
     ]
    }
   ],
   "source": [
    "A= np.random.randint(0,5,(10,3))\n",
    "print(A)\n",
    "E = np.all(A[:,1:] == A[:,:-1], axis=1)\n",
    "U = A[~E]\n",
    "print(U)"
   ]
  },
  {
   "cell_type": "markdown",
   "metadata": {},
   "source": [
    "#### 95. Convert a vector of ints into a matrix binary representation (★★★) \n",
    "(**hint**: np.unpackbits)"
   ]
  },
  {
   "cell_type": "code",
   "execution_count": 26,
   "metadata": {},
   "outputs": [
    {
     "name": "stdout",
     "output_type": "stream",
     "text": [
      "[[0 0 0 0 0 0 0 1]\n",
      " [0 0 0 0 0 0 1 0]\n",
      " [0 0 0 0 0 0 1 1]\n",
      " [0 0 0 0 0 1 0 0]\n",
      " [0 0 0 0 0 1 0 1]\n",
      " [0 0 0 0 1 0 0 0]]\n"
     ]
    }
   ],
   "source": [
    "a=np.array([1,2,3,4,5,8],dtype=np.uint8)\n",
    "print(np.unpackbits(a[:,np.newaxis],axis=1))"
   ]
  },
  {
   "cell_type": "markdown",
   "metadata": {},
   "source": [
    "#### 96. Given a two dimensional array, how to extract unique rows? (★★★) \n",
    "(**hint**: np.ascontiguousarray)"
   ]
  },
  {
   "cell_type": "code",
   "execution_count": 31,
   "metadata": {},
   "outputs": [
    {
     "name": "stdout",
     "output_type": "stream",
     "text": [
      "[[0 0 1]\n",
      " [0 1 0]\n",
      " [1 0 1]\n",
      " [1 1 1]]\n"
     ]
    }
   ],
   "source": [
    "A= np.random.randint(0,2,(6,3))\n",
    "T = np.ascontiguousarray(A).view(np.dtype((np.void, A.dtype.itemsize * A.shape[1])))\n",
    "_, idx = np.unique(T, return_index=True)\n",
    "uA = A[idx]\n",
    "print(uA)"
   ]
  },
  {
   "cell_type": "markdown",
   "metadata": {},
   "source": [
    "#### 97. Considering 2 vectors A & B, write the einsum equivalent of inner, outer, sum, and mul function (★★★) \n",
    "(**hint**: np.einsum)"
   ]
  },
  {
   "cell_type": "code",
   "execution_count": 42,
   "metadata": {},
   "outputs": [
    {
     "name": "stdout",
     "output_type": "stream",
     "text": [
      "15\n",
      "[ 10  40  90 160 250]\n",
      "550\n",
      "[[ 10  20  30  40  50]\n",
      " [ 20  40  60  80 100]\n",
      " [ 30  60  90 120 150]\n",
      " [ 40  80 120 160 200]\n",
      " [ 50 100 150 200 250]]\n"
     ]
    }
   ],
   "source": [
    "A = np.array([1,2,3,4,5])\n",
    "B = np.array([10,20,30,40,50])\n",
    "print(np.einsum('i->', A))       #sum\n",
    "print(np.einsum('i,i->i', A, B)) # A * B\n",
    "print(np.einsum('i,i', A, B))    # np.inner(A, B)\n",
    "print(np.einsum('i,j->ij', A, B))    # np.outer(A, B)"
   ]
  },
  {
   "cell_type": "markdown",
   "metadata": {},
   "source": [
    "#### 98. Considering a path described by two vectors (X,Y), how to sample it using equidistant samples (★★★)? \n",
    "(**hint**: np.cumsum, np.interp)"
   ]
  },
  {
   "cell_type": "code",
   "execution_count": 50,
   "metadata": {},
   "outputs": [],
   "source": [
    "phi = np.arange(0, 10*np.pi, 0.1)\n",
    "a = 1\n",
    "x = a*phi*np.cos(phi)\n",
    "y = a*phi*np.sin(phi)\n",
    "dr = (np.diff(x)**2 + np.diff(y)**2)**.5 # segment lengths\n",
    "r = np.zeros_like(x)\n",
    "r[1:] = np.cumsum(dr)                # integrate_path\n",
    "r_int = np.linspace(0, r.max(), 200) # regular_spaced_path\n",
    "x_int = np.interp(r_int, r, x)       # integrate_path\n",
    "y_int = np.interp(r_int, r, y)\n",
    "#print(x_int)\n",
    "#print(y_int)"
   ]
  },
  {
   "cell_type": "markdown",
   "metadata": {},
   "source": [
    "#### 99. Given an integer n and a 2D array X, select from X the rows which can be interpreted as draws from a multinomial distribution with n degrees, i.e., the rows which only contain integers and which sum to n. (★★★) \n",
    "(**hint**: np.logical\\_and.reduce, np.mod)"
   ]
  },
  {
   "cell_type": "code",
   "execution_count": 55,
   "metadata": {},
   "outputs": [
    {
     "name": "stdout",
     "output_type": "stream",
     "text": [
      "[[2. 0. 1. 1.]]\n"
     ]
    }
   ],
   "source": [
    "A = np.asarray([[1.0, 0.0, 3.0, 8.0],\n",
    "                [2.0, 0.0, 1.0, 1.0],\n",
    "                [1.5, 2.5, 1.0, 0.0]])\n",
    "n = 4\n",
    "M = np.logical_and.reduce(np.mod(A, 1) == 0, axis=-1)\n",
    "M &= (A.sum(axis=-1) == n)\n",
    "print(A[M])"
   ]
  },
  {
   "cell_type": "markdown",
   "metadata": {},
   "source": [
    "#### 100. Compute bootstrapped 95% confidence intervals for the mean of a 1D array X (i.e., resample the elements of an array with replacement N times, compute the mean of each sample, and then compute percentiles over the means). (★★★) \n",
    "(**hint**: np.percentile)"
   ]
  },
  {
   "cell_type": "code",
   "execution_count": 58,
   "metadata": {},
   "outputs": [
    {
     "name": "stdout",
     "output_type": "stream",
     "text": [
      "[-0.22642927  0.16392608]\n"
     ]
    }
   ],
   "source": [
    "A = np.random.randn(100) # random 1D array\n",
    "N = 1000 # no.of bootstrap samples\n",
    "idx = np.random.randint(0, A.size, (N, A.size))\n",
    "means = A[idx].mean(axis=1)\n",
    "confint = np.percentile(means, [2.5, 97.5])\n",
    "print(confint)"
   ]
  }
 ],
 "metadata": {
  "kernelspec": {
   "display_name": "Python 3 (ipykernel)",
   "language": "python",
   "name": "python3"
  },
  "language_info": {
   "codemirror_mode": {
    "name": "ipython",
    "version": 3
   },
   "file_extension": ".py",
   "mimetype": "text/x-python",
   "name": "python",
   "nbconvert_exporter": "python",
   "pygments_lexer": "ipython3",
   "version": "3.11.1"
  }
 },
 "nbformat": 4,
 "nbformat_minor": 1
}
